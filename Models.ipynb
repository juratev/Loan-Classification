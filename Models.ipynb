{
  "cells": [
    {
      "attachments": {},
      "cell_type": "markdown",
      "metadata": {
        "id": "9CLEp0bM-bg3"
      },
      "source": [
        "# Models"
      ]
    },
    {
      "cell_type": "code",
      "execution_count": null,
      "metadata": {
        "id": "tMpzeAiU_Rg7"
      },
      "outputs": [],
      "source": [
        "#!pip install auto-sklearn\n",
        "#!pip install catboost"
      ]
    },
    {
      "cell_type": "code",
      "execution_count": null,
      "metadata": {
        "id": "MJ6cy9sjAM7s"
      },
      "outputs": [],
      "source": [
        "import pickle\n",
        "import numpy as np\n",
        "import pandas as pd\n",
        "import seaborn as sns\n",
        "import autosklearn.regression\n",
        "import matplotlib.pyplot as plt\n",
        "import autosklearn.classification\n",
        "from sklearn.pipeline import Pipeline\n",
        "from sklearn.impute import SimpleImputer\n",
        "from sklearn.compose import ColumnTransformer\n",
        "from xgboost import XGBClassifier, XGBRegressor\n",
        "from sklearn.ensemble import RandomForestClassifier\n",
        "from catboost import CatBoostClassifier, CatBoostRegressor\n",
        "from sklearn.preprocessing import OneHotEncoder, StandardScaler\n",
        "from autosklearn.metrics import mean_absolute_error as auto_mean_absolute_error\n",
        "from sklearn.model_selection import train_test_split, RandomizedSearchCV, StratifiedKFold, cross_validate\n",
        "from sklearn.metrics import roc_auc_score, confusion_matrix, classification_report, mean_squared_error, r2_score"
      ]
    },
    {
      "attachments": {},
      "cell_type": "markdown",
      "metadata": {
        "id": "QcXNm5ReYimn"
      },
      "source": [
        "## Accepted/rejected"
      ]
    },
    {
      "cell_type": "code",
      "execution_count": null,
      "metadata": {
        "id": "dZlwd5x8hhCS"
      },
      "outputs": [],
      "source": [
        "with open('train_dataset_status.pkl', 'rb') as f:\n",
        "    train_df_status = pickle.load(f)\n",
        "with open('test_dataset_status.pkl', 'rb') as f:\n",
        "    test_df_status = pickle.load(f)"
      ]
    },
    {
      "cell_type": "code",
      "execution_count": null,
      "metadata": {
        "id": "TxsKTScIibES"
      },
      "outputs": [],
      "source": [
        "X_train = train_df_status.drop(['Status'], axis=1)\n",
        "y_train = train_df_status['Status']\n",
        "\n",
        "X_test = test_df_status.drop(['Status'], axis=1)\n",
        "y_test = test_df_status['Status']"
      ]
    },
    {
      "cell_type": "code",
      "execution_count": null,
      "metadata": {
        "id": "zTYE6ylqnW-h"
      },
      "outputs": [],
      "source": [
        "kf = StratifiedKFold(n_splits=5, shuffle=True, random_state=1)\n",
        "\n",
        "categorical_features = ['Loan Title', 'State']\n",
        "numerical_features = ['Amount Requested', 'Risk Score', 'Debt-To-Income Ratio', \n",
        "                      'Employment Length', 'Application Year', 'Application Month']\n",
        "\n",
        "numerical_transformer = Pipeline(steps=[\n",
        "    ('imputer', SimpleImputer(strategy='median')),\n",
        "    ('scaler', StandardScaler())\n",
        "])\n",
        "categorical_transformer = Pipeline(steps=[\n",
        "    ('imputer', SimpleImputer(strategy='most_frequent')),\n",
        "    ('onehot', OneHotEncoder(handle_unknown='ignore'))\n",
        "])\n",
        "\n",
        "preprocessor = ColumnTransformer(\n",
        "  transformers=[\n",
        "      ('num', numerical_transformer, numerical_features),\n",
        "      ('cat', categorical_transformer, categorical_features)\n",
        "])"
      ]
    },
    {
      "attachments": {},
      "cell_type": "markdown",
      "metadata": {
        "id": "IGYmpkfURSiW"
      },
      "source": [
        "#### XGBoost"
      ]
    },
    {
      "cell_type": "code",
      "execution_count": null,
      "metadata": {
        "id": "_AFfyyJbptDA"
      },
      "outputs": [],
      "source": [
        "xgb = XGBClassifier(eval_metric='auc')\n",
        "pipeline = Pipeline(steps=[\n",
        "    ('preprocessor', preprocessor),\n",
        "    ('classifier', xgb)\n",
        "])\n",
        "params = {\n",
        "    'classifier__n_estimators': [50, 100, 200, 500, 1000],\n",
        "    'classifier__max_depth': [3, 5, 7, 10],\n",
        "    'classifier__learning_rate': [0.01, 0.05, 0.1, 0.2],\n",
        "    'classifier__subsample': [0.5, 0.7, 1.0],\n",
        "    'classifier__colsample_bytree': [0.5, 0.7, 1.0],\n",
        "}\n",
        "xgb_model1 = RandomizedSearchCV(pipeline, params, n_iter=4, cv=kf,\n",
        "                                scoring='roc_auc', random_state=1, verbose=2)\n",
        "xgb_model1.fit(X_train, y_train)\n",
        "pickle.dump(xgb_model1, open('1xgb.sav', 'wb'))"
      ]
    },
    {
      "cell_type": "code",
      "execution_count": null,
      "metadata": {
        "colab": {
          "base_uri": "https://localhost:8080/"
        },
        "id": "PrlR9SPaAL22",
        "outputId": "39363ea8-d38e-4729-df79-dd9de31a253e"
      },
      "outputs": [
        {
          "name": "stdout",
          "output_type": "stream",
          "text": [
            "Best parameters:\n"
          ]
        },
        {
          "data": {
            "text/plain": [
              "{'classifier__subsample': 0.7,\n",
              " 'classifier__n_estimators': 500,\n",
              " 'classifier__max_depth': 10,\n",
              " 'classifier__learning_rate': 0.2,\n",
              " 'classifier__colsample_bytree': 0.5}"
            ]
          },
          "execution_count": 50,
          "metadata": {},
          "output_type": "execute_result"
        }
      ],
      "source": [
        "print('Best parameters:')\n",
        "xgb_model1.best_params_"
      ]
    },
    {
      "cell_type": "code",
      "execution_count": null,
      "metadata": {
        "colab": {
          "base_uri": "https://localhost:8080/",
          "height": 301
        },
        "id": "4VQxH6pP9eio",
        "outputId": "0432d553-acb1-41b3-be02-6825e40e71ff"
      },
      "outputs": [
        {
          "data": {
            "text/html": [
              "\n",
              "  <div id=\"df-eed9f5ac-0904-4445-940e-31b453920acb\">\n",
              "    <div class=\"colab-df-container\">\n",
              "      <div>\n",
              "<style scoped>\n",
              "    .dataframe tbody tr th:only-of-type {\n",
              "        vertical-align: middle;\n",
              "    }\n",
              "\n",
              "    .dataframe tbody tr th {\n",
              "        vertical-align: top;\n",
              "    }\n",
              "\n",
              "    .dataframe thead th {\n",
              "        text-align: right;\n",
              "    }\n",
              "</style>\n",
              "<table border=\"1\" class=\"dataframe\">\n",
              "  <thead>\n",
              "    <tr style=\"text-align: right;\">\n",
              "      <th></th>\n",
              "      <th>Feature</th>\n",
              "      <th>Importance</th>\n",
              "    </tr>\n",
              "  </thead>\n",
              "  <tbody>\n",
              "    <tr>\n",
              "      <th>0</th>\n",
              "      <td>Debt-To-Income Ratio</td>\n",
              "      <td>0.24</td>\n",
              "    </tr>\n",
              "    <tr>\n",
              "      <th>1</th>\n",
              "      <td>Loan Title</td>\n",
              "      <td>0.13</td>\n",
              "    </tr>\n",
              "    <tr>\n",
              "      <th>2</th>\n",
              "      <td>Application Year</td>\n",
              "      <td>0.03</td>\n",
              "    </tr>\n",
              "    <tr>\n",
              "      <th>3</th>\n",
              "      <td>State</td>\n",
              "      <td>0.02</td>\n",
              "    </tr>\n",
              "    <tr>\n",
              "      <th>4</th>\n",
              "      <td>Risk Score</td>\n",
              "      <td>0.02</td>\n",
              "    </tr>\n",
              "    <tr>\n",
              "      <th>5</th>\n",
              "      <td>Amount Requested</td>\n",
              "      <td>0.02</td>\n",
              "    </tr>\n",
              "    <tr>\n",
              "      <th>6</th>\n",
              "      <td>Application Month</td>\n",
              "      <td>0.01</td>\n",
              "    </tr>\n",
              "    <tr>\n",
              "      <th>7</th>\n",
              "      <td>Employment Length</td>\n",
              "      <td>0.01</td>\n",
              "    </tr>\n",
              "  </tbody>\n",
              "</table>\n",
              "</div>\n",
              "      <button class=\"colab-df-convert\" onclick=\"convertToInteractive('df-eed9f5ac-0904-4445-940e-31b453920acb')\"\n",
              "              title=\"Convert this dataframe to an interactive table.\"\n",
              "              style=\"display:none;\">\n",
              "        \n",
              "  <svg xmlns=\"http://www.w3.org/2000/svg\" height=\"24px\"viewBox=\"0 0 24 24\"\n",
              "       width=\"24px\">\n",
              "    <path d=\"M0 0h24v24H0V0z\" fill=\"none\"/>\n",
              "    <path d=\"M18.56 5.44l.94 2.06.94-2.06 2.06-.94-2.06-.94-.94-2.06-.94 2.06-2.06.94zm-11 1L8.5 8.5l.94-2.06 2.06-.94-2.06-.94L8.5 2.5l-.94 2.06-2.06.94zm10 10l.94 2.06.94-2.06 2.06-.94-2.06-.94-.94-2.06-.94 2.06-2.06.94z\"/><path d=\"M17.41 7.96l-1.37-1.37c-.4-.4-.92-.59-1.43-.59-.52 0-1.04.2-1.43.59L10.3 9.45l-7.72 7.72c-.78.78-.78 2.05 0 2.83L4 21.41c.39.39.9.59 1.41.59.51 0 1.02-.2 1.41-.59l7.78-7.78 2.81-2.81c.8-.78.8-2.07 0-2.86zM5.41 20L4 18.59l7.72-7.72 1.47 1.35L5.41 20z\"/>\n",
              "  </svg>\n",
              "      </button>\n",
              "      \n",
              "  <style>\n",
              "    .colab-df-container {\n",
              "      display:flex;\n",
              "      flex-wrap:wrap;\n",
              "      gap: 12px;\n",
              "    }\n",
              "\n",
              "    .colab-df-convert {\n",
              "      background-color: #E8F0FE;\n",
              "      border: none;\n",
              "      border-radius: 50%;\n",
              "      cursor: pointer;\n",
              "      display: none;\n",
              "      fill: #1967D2;\n",
              "      height: 32px;\n",
              "      padding: 0 0 0 0;\n",
              "      width: 32px;\n",
              "    }\n",
              "\n",
              "    .colab-df-convert:hover {\n",
              "      background-color: #E2EBFA;\n",
              "      box-shadow: 0px 1px 2px rgba(60, 64, 67, 0.3), 0px 1px 3px 1px rgba(60, 64, 67, 0.15);\n",
              "      fill: #174EA6;\n",
              "    }\n",
              "\n",
              "    [theme=dark] .colab-df-convert {\n",
              "      background-color: #3B4455;\n",
              "      fill: #D2E3FC;\n",
              "    }\n",
              "\n",
              "    [theme=dark] .colab-df-convert:hover {\n",
              "      background-color: #434B5C;\n",
              "      box-shadow: 0px 1px 3px 1px rgba(0, 0, 0, 0.15);\n",
              "      filter: drop-shadow(0px 1px 2px rgba(0, 0, 0, 0.3));\n",
              "      fill: #FFFFFF;\n",
              "    }\n",
              "  </style>\n",
              "\n",
              "      <script>\n",
              "        const buttonEl =\n",
              "          document.querySelector('#df-eed9f5ac-0904-4445-940e-31b453920acb button.colab-df-convert');\n",
              "        buttonEl.style.display =\n",
              "          google.colab.kernel.accessAllowed ? 'block' : 'none';\n",
              "\n",
              "        async function convertToInteractive(key) {\n",
              "          const element = document.querySelector('#df-eed9f5ac-0904-4445-940e-31b453920acb');\n",
              "          const dataTable =\n",
              "            await google.colab.kernel.invokeFunction('convertToInteractive',\n",
              "                                                     [key], {});\n",
              "          if (!dataTable) return;\n",
              "\n",
              "          const docLinkHtml = 'Like what you see? Visit the ' +\n",
              "            '<a target=\"_blank\" href=https://colab.research.google.com/notebooks/data_table.ipynb>data table notebook</a>'\n",
              "            + ' to learn more about interactive tables.';\n",
              "          element.innerHTML = '';\n",
              "          dataTable['output_type'] = 'display_data';\n",
              "          await google.colab.output.renderOutput(dataTable, element);\n",
              "          const docLink = document.createElement('div');\n",
              "          docLink.innerHTML = docLinkHtml;\n",
              "          element.appendChild(docLink);\n",
              "        }\n",
              "      </script>\n",
              "    </div>\n",
              "  </div>\n",
              "  "
            ],
            "text/plain": [
              "                Feature  Importance\n",
              "0  Debt-To-Income Ratio        0.24\n",
              "1            Loan Title        0.13\n",
              "2      Application Year        0.03\n",
              "3                 State        0.02\n",
              "4            Risk Score        0.02\n",
              "5      Amount Requested        0.02\n",
              "6     Application Month        0.01\n",
              "7     Employment Length        0.01"
            ]
          },
          "execution_count": 43,
          "metadata": {},
          "output_type": "execute_result"
        }
      ],
      "source": [
        "importances = xgb_model1.best_estimator_.named_steps['classifier'].feature_importances_\n",
        "feature_importances = [(importance, feature) for importance, feature \n",
        "                       in zip(importances, X_train.columns)]\n",
        "feature_importances.sort(reverse=True)\n",
        "t = pd.DataFrame(feature_importances, columns=['Importance', 'Feature'])\n",
        "t[['Feature', 'Importance']].round(2)"
      ]
    },
    {
      "cell_type": "code",
      "execution_count": null,
      "metadata": {
        "colab": {
          "base_uri": "https://localhost:8080/"
        },
        "id": "bPL1E0scOxL7",
        "outputId": "9818bbb4-7dbd-4b12-8cdc-a5cc7f9b6900"
      },
      "outputs": [
        {
          "name": "stdout",
          "output_type": "stream",
          "text": [
            "AUC-ROC score: 0.995\n"
          ]
        }
      ],
      "source": [
        "y_pred = xgb_model1.predict(X_test)\n",
        "print('AUC-ROC score:', np.round(xgb_model1.score(X_test, y_test), 3))"
      ]
    },
    {
      "cell_type": "code",
      "execution_count": null,
      "metadata": {
        "colab": {
          "base_uri": "https://localhost:8080/"
        },
        "id": "xCnMooJBQl4k",
        "outputId": "2acad602-172f-496d-c98a-8168824fda23"
      },
      "outputs": [
        {
          "name": "stdout",
          "output_type": "stream",
          "text": [
            "              precision    recall  f1-score   support\n",
            "\n",
            "           0       1.00      0.96      0.98     17709\n",
            "           1       0.74      0.98      0.84      2103\n",
            "\n",
            "    accuracy                           0.96     19812\n",
            "   macro avg       0.87      0.97      0.91     19812\n",
            "weighted avg       0.97      0.96      0.96     19812\n",
            "\n"
          ]
        }
      ],
      "source": [
        "print(classification_report(y_test, y_pred))"
      ]
    },
    {
      "attachments": {},
      "cell_type": "markdown",
      "metadata": {
        "id": "OYpDc0Rwvfs5"
      },
      "source": [
        "### CatBoost"
      ]
    },
    {
      "cell_type": "code",
      "execution_count": null,
      "metadata": {
        "id": "rD0XTT5gvl8T"
      },
      "outputs": [],
      "source": [
        "cat = CatBoostClassifier(eval_metric='AUC')\n",
        "pipeline = Pipeline(steps=[\n",
        "    ('preprocessor', preprocessor),\n",
        "    ('classifier', cat)\n",
        "])\n",
        "params = {\n",
        "    'classifier__iterations': [50, 100, 200, 500, 1000],\n",
        "    'classifier__depth': [3, 5, 7, 10],\n",
        "    'classifier__learning_rate': [0.01, 0.05, 0.1, 0.2],\n",
        "    'classifier__bagging_temperature': [0.5, 0.7, 1.0],\n",
        "    'classifier__border_count': [32, 5, 10, 20, 50, 100, 200],\n",
        "}\n",
        "cat_model1 = RandomizedSearchCV(pipeline, params, n_iter=4, cv=kf,\n",
        "                                scoring='roc_auc', random_state=1, verbose=2)\n",
        "cat_model1.fit(X_train, y_train)\n",
        "pickle.dump(cat_model1, open('1catb.sav', 'wb'))"
      ]
    },
    {
      "cell_type": "code",
      "execution_count": null,
      "metadata": {
        "colab": {
          "base_uri": "https://localhost:8080/"
        },
        "id": "SQTzW1Gwvnbs",
        "outputId": "c1efd7bb-154a-4899-ca70-dc7c1fb02270"
      },
      "outputs": [
        {
          "name": "stdout",
          "output_type": "stream",
          "text": [
            "AUC-ROC score: 0.992\n"
          ]
        }
      ],
      "source": [
        "y_pred = cat_model1.predict(X_test)\n",
        "print('AUC-ROC score:', np.round(cat_model1.score(X_test, y_test), 3))"
      ]
    },
    {
      "cell_type": "code",
      "execution_count": null,
      "metadata": {
        "colab": {
          "base_uri": "https://localhost:8080/"
        },
        "id": "gLA3G7IwQP-l",
        "outputId": "6e00dbab-9889-4c34-bcef-6bb9478cd836"
      },
      "outputs": [
        {
          "name": "stdout",
          "output_type": "stream",
          "text": [
            "              precision    recall  f1-score   support\n",
            "\n",
            "           0       1.00      0.94      0.97     17709\n",
            "           1       0.65      0.98      0.78      2103\n",
            "\n",
            "    accuracy                           0.94     19812\n",
            "   macro avg       0.82      0.96      0.87     19812\n",
            "weighted avg       0.96      0.94      0.95     19812\n",
            "\n"
          ]
        }
      ],
      "source": [
        "print(classification_report(y_test, y_pred))"
      ]
    },
    {
      "attachments": {},
      "cell_type": "markdown",
      "metadata": {
        "id": "Y7rURzBiRNE0"
      },
      "source": [
        "### AutoML"
      ]
    },
    {
      "cell_type": "code",
      "execution_count": null,
      "metadata": {
        "id": "ItPAG3KfjMMz"
      },
      "outputs": [],
      "source": [
        "automl_model1 = autosklearn.classification.AutoSklearnClassifier(\n",
        "  seed=1, n_jobs=-1, metric=autosklearn.metrics.roc_auc\n",
        ")\n",
        "automl_model1.fit(X_train, y_train)\n",
        "pickle.dump(automl_model1, open('1automl.sav', 'wb'))"
      ]
    },
    {
      "cell_type": "code",
      "execution_count": null,
      "metadata": {
        "colab": {
          "base_uri": "https://localhost:8080/"
        },
        "id": "w4Nmof6BIdx3",
        "outputId": "b9e32370-7e76-4766-fd2f-8ab8062d8f07"
      },
      "outputs": [
        {
          "name": "stdout",
          "output_type": "stream",
          "text": [
            "AUC-ROC score: 0.94\n"
          ]
        }
      ],
      "source": [
        "y_pred = automl_model1.predict(X_test)\n",
        "score = roc_auc_score(y_test, y_pred)\n",
        "print('AUC-ROC score:', np.round(score, 2))"
      ]
    },
    {
      "cell_type": "code",
      "execution_count": null,
      "metadata": {
        "colab": {
          "base_uri": "https://localhost:8080/",
          "height": 175
        },
        "id": "FFJ2Z9j6q69h",
        "outputId": "4735c260-3f72-4b15-a7b6-b518d941647c"
      },
      "outputs": [
        {
          "data": {
            "text/html": [
              "\n",
              "  <div id=\"df-e44d7be2-69ac-4900-81da-714ddbbf066b\">\n",
              "    <div class=\"colab-df-container\">\n",
              "      <div>\n",
              "<style scoped>\n",
              "    .dataframe tbody tr th:only-of-type {\n",
              "        vertical-align: middle;\n",
              "    }\n",
              "\n",
              "    .dataframe tbody tr th {\n",
              "        vertical-align: top;\n",
              "    }\n",
              "\n",
              "    .dataframe thead th {\n",
              "        text-align: right;\n",
              "    }\n",
              "</style>\n",
              "<table border=\"1\" class=\"dataframe\">\n",
              "  <thead>\n",
              "    <tr style=\"text-align: right;\">\n",
              "      <th></th>\n",
              "      <th>rank</th>\n",
              "      <th>ensemble_weight</th>\n",
              "      <th>type</th>\n",
              "      <th>cost</th>\n",
              "      <th>duration</th>\n",
              "    </tr>\n",
              "    <tr>\n",
              "      <th>model_id</th>\n",
              "      <th></th>\n",
              "      <th></th>\n",
              "      <th></th>\n",
              "      <th></th>\n",
              "      <th></th>\n",
              "    </tr>\n",
              "  </thead>\n",
              "  <tbody>\n",
              "    <tr>\n",
              "      <th>45</th>\n",
              "      <td>1</td>\n",
              "      <td>0.70</td>\n",
              "      <td>decision_tree</td>\n",
              "      <td>0.013315</td>\n",
              "      <td>5.735951</td>\n",
              "    </tr>\n",
              "    <tr>\n",
              "      <th>167</th>\n",
              "      <td>2</td>\n",
              "      <td>0.24</td>\n",
              "      <td>passive_aggressive</td>\n",
              "      <td>0.031480</td>\n",
              "      <td>7.381560</td>\n",
              "    </tr>\n",
              "    <tr>\n",
              "      <th>225</th>\n",
              "      <td>3</td>\n",
              "      <td>0.06</td>\n",
              "      <td>liblinear_svc</td>\n",
              "      <td>0.035600</td>\n",
              "      <td>8.038775</td>\n",
              "    </tr>\n",
              "  </tbody>\n",
              "</table>\n",
              "</div>\n",
              "      <button class=\"colab-df-convert\" onclick=\"convertToInteractive('df-e44d7be2-69ac-4900-81da-714ddbbf066b')\"\n",
              "              title=\"Convert this dataframe to an interactive table.\"\n",
              "              style=\"display:none;\">\n",
              "        \n",
              "  <svg xmlns=\"http://www.w3.org/2000/svg\" height=\"24px\"viewBox=\"0 0 24 24\"\n",
              "       width=\"24px\">\n",
              "    <path d=\"M0 0h24v24H0V0z\" fill=\"none\"/>\n",
              "    <path d=\"M18.56 5.44l.94 2.06.94-2.06 2.06-.94-2.06-.94-.94-2.06-.94 2.06-2.06.94zm-11 1L8.5 8.5l.94-2.06 2.06-.94-2.06-.94L8.5 2.5l-.94 2.06-2.06.94zm10 10l.94 2.06.94-2.06 2.06-.94-2.06-.94-.94-2.06-.94 2.06-2.06.94z\"/><path d=\"M17.41 7.96l-1.37-1.37c-.4-.4-.92-.59-1.43-.59-.52 0-1.04.2-1.43.59L10.3 9.45l-7.72 7.72c-.78.78-.78 2.05 0 2.83L4 21.41c.39.39.9.59 1.41.59.51 0 1.02-.2 1.41-.59l7.78-7.78 2.81-2.81c.8-.78.8-2.07 0-2.86zM5.41 20L4 18.59l7.72-7.72 1.47 1.35L5.41 20z\"/>\n",
              "  </svg>\n",
              "      </button>\n",
              "      \n",
              "  <style>\n",
              "    .colab-df-container {\n",
              "      display:flex;\n",
              "      flex-wrap:wrap;\n",
              "      gap: 12px;\n",
              "    }\n",
              "\n",
              "    .colab-df-convert {\n",
              "      background-color: #E8F0FE;\n",
              "      border: none;\n",
              "      border-radius: 50%;\n",
              "      cursor: pointer;\n",
              "      display: none;\n",
              "      fill: #1967D2;\n",
              "      height: 32px;\n",
              "      padding: 0 0 0 0;\n",
              "      width: 32px;\n",
              "    }\n",
              "\n",
              "    .colab-df-convert:hover {\n",
              "      background-color: #E2EBFA;\n",
              "      box-shadow: 0px 1px 2px rgba(60, 64, 67, 0.3), 0px 1px 3px 1px rgba(60, 64, 67, 0.15);\n",
              "      fill: #174EA6;\n",
              "    }\n",
              "\n",
              "    [theme=dark] .colab-df-convert {\n",
              "      background-color: #3B4455;\n",
              "      fill: #D2E3FC;\n",
              "    }\n",
              "\n",
              "    [theme=dark] .colab-df-convert:hover {\n",
              "      background-color: #434B5C;\n",
              "      box-shadow: 0px 1px 3px 1px rgba(0, 0, 0, 0.15);\n",
              "      filter: drop-shadow(0px 1px 2px rgba(0, 0, 0, 0.3));\n",
              "      fill: #FFFFFF;\n",
              "    }\n",
              "  </style>\n",
              "\n",
              "      <script>\n",
              "        const buttonEl =\n",
              "          document.querySelector('#df-e44d7be2-69ac-4900-81da-714ddbbf066b button.colab-df-convert');\n",
              "        buttonEl.style.display =\n",
              "          google.colab.kernel.accessAllowed ? 'block' : 'none';\n",
              "\n",
              "        async function convertToInteractive(key) {\n",
              "          const element = document.querySelector('#df-e44d7be2-69ac-4900-81da-714ddbbf066b');\n",
              "          const dataTable =\n",
              "            await google.colab.kernel.invokeFunction('convertToInteractive',\n",
              "                                                     [key], {});\n",
              "          if (!dataTable) return;\n",
              "\n",
              "          const docLinkHtml = 'Like what you see? Visit the ' +\n",
              "            '<a target=\"_blank\" href=https://colab.research.google.com/notebooks/data_table.ipynb>data table notebook</a>'\n",
              "            + ' to learn more about interactive tables.';\n",
              "          element.innerHTML = '';\n",
              "          dataTable['output_type'] = 'display_data';\n",
              "          await google.colab.output.renderOutput(dataTable, element);\n",
              "          const docLink = document.createElement('div');\n",
              "          docLink.innerHTML = docLinkHtml;\n",
              "          element.appendChild(docLink);\n",
              "        }\n",
              "      </script>\n",
              "    </div>\n",
              "  </div>\n",
              "  "
            ],
            "text/plain": [
              "          rank  ensemble_weight                type      cost  duration\n",
              "model_id                                                               \n",
              "45           1             0.70       decision_tree  0.013315  5.735951\n",
              "167          2             0.24  passive_aggressive  0.031480  7.381560\n",
              "225          3             0.06       liblinear_svc  0.035600  8.038775"
            ]
          },
          "execution_count": 54,
          "metadata": {},
          "output_type": "execute_result"
        }
      ],
      "source": [
        "automl_model1.leaderboard()"
      ]
    },
    {
      "cell_type": "code",
      "execution_count": null,
      "metadata": {
        "colab": {
          "base_uri": "https://localhost:8080/"
        },
        "id": "dVVpJbMPHiPB",
        "outputId": "58d3d89f-7f1e-4bae-d14f-fdff821c4171"
      },
      "outputs": [
        {
          "name": "stdout",
          "output_type": "stream",
          "text": [
            "auto-sklearn results:\n",
            "  Dataset name: 1a567d9f-f028-11ed-bcb0-0242ac1c000c\n",
            "  Metric: roc_auc\n",
            "  Best validation score: 0.986685\n",
            "  Number of target algorithm runs: 276\n",
            "  Number of successful target algorithm runs: 85\n",
            "  Number of crashed target algorithm runs: 173\n",
            "  Number of target algorithms that exceeded the time limit: 1\n",
            "  Number of target algorithms that exceeded the memory limit: 17\n",
            "\n"
          ]
        }
      ],
      "source": [
        "print(automl_model1.sprint_statistics())"
      ]
    },
    {
      "cell_type": "code",
      "execution_count": null,
      "metadata": {
        "colab": {
          "base_uri": "https://localhost:8080/"
        },
        "id": "FfaapbcGMSzh",
        "outputId": "9eca043b-e42e-45c4-c73d-d1e16e530c9e"
      },
      "outputs": [
        {
          "name": "stdout",
          "output_type": "stream",
          "text": [
            "              precision    recall  f1-score   support\n",
            "\n",
            "           0       1.00      0.89      0.94     17709\n",
            "           1       0.52      0.98      0.68      2103\n",
            "\n",
            "    accuracy                           0.90     19812\n",
            "   macro avg       0.76      0.94      0.81     19812\n",
            "weighted avg       0.95      0.90      0.92     19812\n",
            "\n"
          ]
        }
      ],
      "source": [
        "print(classification_report(y_test, y_pred))"
      ]
    },
    {
      "attachments": {},
      "cell_type": "markdown",
      "metadata": {
        "id": "j2IHiWS2Q4SD"
      },
      "source": [
        " Model comparison:"
      ]
    },
    {
      "cell_type": "code",
      "execution_count": null,
      "metadata": {
        "id": "fFD7k3-JSbIf"
      },
      "outputs": [],
      "source": [
        "data = [\n",
        "    ['XGBoost', 0.95, 0.96, 0.96, 0.91],\n",
        "    ['Catboost', 0.992, 0.94, 0.95, 0.87],\n",
        "    ['AutoML', 0.94, 0.90, 0.92, 0.81]]\n",
        "columns = ['Model', 'ROC AUC score', 'Accuracy', 'F1 weighted score', \n",
        "           'F1 macro score']\n",
        "t = pd.DataFrame(data, columns=columns)"
      ]
    },
    {
      "cell_type": "code",
      "execution_count": null,
      "metadata": {
        "colab": {
          "base_uri": "https://localhost:8080/",
          "height": 144
        },
        "id": "PwTYmEaIRE1k",
        "outputId": "fc479dc7-9293-442b-a2db-8b87d5f9ecee"
      },
      "outputs": [
        {
          "data": {
            "text/html": [
              "<style type=\"text/css\">\n",
              "#T_67f8f_row0_col1, #T_67f8f_row1_col3 {\n",
              "  background-color: #046198;\n",
              "  color: #f1f1f1;\n",
              "}\n",
              "#T_67f8f_row0_col2, #T_67f8f_row0_col3 {\n",
              "  background-color: #045b8f;\n",
              "  color: #f1f1f1;\n",
              "}\n",
              "#T_67f8f_row0_col4 {\n",
              "  background-color: #187cb6;\n",
              "  color: #f1f1f1;\n",
              "}\n",
              "#T_67f8f_row1_col1 {\n",
              "  background-color: #023e62;\n",
              "  color: #f1f1f1;\n",
              "}\n",
              "#T_67f8f_row1_col2, #T_67f8f_row2_col1 {\n",
              "  background-color: #0567a2;\n",
              "  color: #f1f1f1;\n",
              "}\n",
              "#T_67f8f_row1_col4 {\n",
              "  background-color: #529bc7;\n",
              "  color: #f1f1f1;\n",
              "}\n",
              "#T_67f8f_row2_col2 {\n",
              "  background-color: #2685bb;\n",
              "  color: #f1f1f1;\n",
              "}\n",
              "#T_67f8f_row2_col3 {\n",
              "  background-color: #0c74b2;\n",
              "  color: #f1f1f1;\n",
              "}\n",
              "#T_67f8f_row2_col4 {\n",
              "  background-color: #a9bfdc;\n",
              "  color: #000000;\n",
              "}\n",
              "</style>\n",
              "<table id=\"T_67f8f\" class=\"dataframe\">\n",
              "  <thead>\n",
              "    <tr>\n",
              "      <th class=\"blank level0\" >&nbsp;</th>\n",
              "      <th id=\"T_67f8f_level0_col0\" class=\"col_heading level0 col0\" >Model</th>\n",
              "      <th id=\"T_67f8f_level0_col1\" class=\"col_heading level0 col1\" >ROC AUC score</th>\n",
              "      <th id=\"T_67f8f_level0_col2\" class=\"col_heading level0 col2\" >Accuracy</th>\n",
              "      <th id=\"T_67f8f_level0_col3\" class=\"col_heading level0 col3\" >F1 weighted score</th>\n",
              "      <th id=\"T_67f8f_level0_col4\" class=\"col_heading level0 col4\" >F1 macro score</th>\n",
              "    </tr>\n",
              "  </thead>\n",
              "  <tbody>\n",
              "    <tr>\n",
              "      <th id=\"T_67f8f_level0_row0\" class=\"row_heading level0 row0\" >0</th>\n",
              "      <td id=\"T_67f8f_row0_col0\" class=\"data row0 col0\" >XGBoost</td>\n",
              "      <td id=\"T_67f8f_row0_col1\" class=\"data row0 col1\" >0.95</td>\n",
              "      <td id=\"T_67f8f_row0_col2\" class=\"data row0 col2\" >0.96</td>\n",
              "      <td id=\"T_67f8f_row0_col3\" class=\"data row0 col3\" >0.96</td>\n",
              "      <td id=\"T_67f8f_row0_col4\" class=\"data row0 col4\" >0.91</td>\n",
              "    </tr>\n",
              "    <tr>\n",
              "      <th id=\"T_67f8f_level0_row1\" class=\"row_heading level0 row1\" >1</th>\n",
              "      <td id=\"T_67f8f_row1_col0\" class=\"data row1 col0\" >Catboost</td>\n",
              "      <td id=\"T_67f8f_row1_col1\" class=\"data row1 col1\" >0.99</td>\n",
              "      <td id=\"T_67f8f_row1_col2\" class=\"data row1 col2\" >0.94</td>\n",
              "      <td id=\"T_67f8f_row1_col3\" class=\"data row1 col3\" >0.95</td>\n",
              "      <td id=\"T_67f8f_row1_col4\" class=\"data row1 col4\" >0.87</td>\n",
              "    </tr>\n",
              "    <tr>\n",
              "      <th id=\"T_67f8f_level0_row2\" class=\"row_heading level0 row2\" >2</th>\n",
              "      <td id=\"T_67f8f_row2_col0\" class=\"data row2 col0\" >AutoML</td>\n",
              "      <td id=\"T_67f8f_row2_col1\" class=\"data row2 col1\" >0.94</td>\n",
              "      <td id=\"T_67f8f_row2_col2\" class=\"data row2 col2\" >0.90</td>\n",
              "      <td id=\"T_67f8f_row2_col3\" class=\"data row2 col3\" >0.92</td>\n",
              "      <td id=\"T_67f8f_row2_col4\" class=\"data row2 col4\" >0.81</td>\n",
              "    </tr>\n",
              "  </tbody>\n",
              "</table>\n"
            ],
            "text/plain": [
              "<pandas.io.formats.style.Styler at 0x7f1df6c52ec0>"
            ]
          },
          "execution_count": 65,
          "metadata": {},
          "output_type": "execute_result"
        }
      ],
      "source": [
        "t.style.format(precision=2).background_gradient(cmap='PuBu', vmin=0.7, vmax=1)"
      ]
    },
    {
      "attachments": {},
      "cell_type": "markdown",
      "metadata": {
        "id": "Lbfagl2ATEOv"
      },
      "source": [
        "The best performed CatBoost model, the worst AutoML."
      ]
    },
    {
      "attachments": {},
      "cell_type": "markdown",
      "metadata": {
        "id": "GgP3lbd00ycI"
      },
      "source": [
        "## Grade"
      ]
    },
    {
      "cell_type": "code",
      "execution_count": null,
      "metadata": {
        "id": "g1twobaoAUgw"
      },
      "outputs": [],
      "source": [
        "with open('train_dataset.pkl', 'rb') as f:\n",
        "    train_df = pickle.load(f)\n",
        "with open('test_dataset.pkl', 'rb') as f:\n",
        "    test_df = pickle.load(f)"
      ]
    },
    {
      "cell_type": "code",
      "execution_count": null,
      "metadata": {
        "id": "PUXCv4FAPQG8"
      },
      "outputs": [],
      "source": [
        "def preprocessing(df: pd.DataFrame) -> pd.DataFrame:\n",
        "  \"\"\"Preprocesses the input DataFrame by converting categorical columns to numerical values.\"\"\"\n",
        "  df['emp_length'] = df['emp_length'].astype(int)\n",
        "  d1 = {'A': 0, 'B': 1, 'C': 2, 'D': 3, 'E': 4, 'F': 5, 'G': 6}\n",
        "  d2 = {'A1': 0, 'A2': 1, 'A3': 2, 'A4': 3, 'A5': 4, 'B1': 5, 'B2': 6, 'B3': 7, \n",
        "        'B4': 8, 'B5': 9, 'C1': 10, 'C2': 11, 'C3': 12, 'C4': 13, 'C5': 14, \n",
        "        'D1': 15, 'D2': 16, 'D3': 17, 'D4': 18, 'D5': 19, 'E1': 20, 'E2': 21, \n",
        "        'E3': 22, 'E4': 23, 'E5': 24, 'F1': 25, 'F2': 26, 'F3': 27, 'F4': 28, \n",
        "        'F5': 29, 'G1': 30, 'G2': 31, 'G3': 32, 'G4': 33, 'G5': 34}\n",
        "  d3 = {'Not Verified':0, 'Verified':1, 'Source Verified':2}\n",
        "  d4 = {'N':0, 'Y':1, 'n':0, 'y':1, 'Cash':0, 'DirectPay':1, 'Individual':0, \n",
        "        'Joint App':1, 'f':0, 'w':1, '36 months':0, ' 60 months':1}\n",
        "  df = df.replace({'grade': d1}).replace({'sub_grade': d2}).replace({'verification_status': d3})\n",
        "  cols = ['term', 'disbursement_method', 'debt_settlement_flag', \n",
        "          'initial_list_status', 'application_type']\n",
        "  for col in cols:\n",
        "    df = df.replace({col: d4})  \n",
        "  return df"
      ]
    },
    {
      "cell_type": "code",
      "execution_count": null,
      "metadata": {
        "id": "w23LDuYSS2F9"
      },
      "outputs": [],
      "source": [
        "train_df = preprocessing(train_df)\n",
        "test_df = preprocessing(test_df)"
      ]
    },
    {
      "cell_type": "code",
      "execution_count": null,
      "metadata": {
        "colab": {
          "base_uri": "https://localhost:8080/"
        },
        "id": "4zvzn4VlI3XJ",
        "outputId": "814b77ac-a289-45a1-ad06-891018e7ef54"
      },
      "outputs": [
        {
          "data": {
            "text/plain": [
              "0    0.143\n",
              "1    0.143\n",
              "2    0.143\n",
              "3    0.143\n",
              "4    0.143\n",
              "5    0.143\n",
              "6    0.143\n",
              "Name: grade, dtype: float64"
            ]
          },
          "execution_count": 38,
          "metadata": {},
          "output_type": "execute_result"
        }
      ],
      "source": [
        "np.round(train_df['grade'].value_counts()/len(train_df),3).sort_index()"
      ]
    },
    {
      "cell_type": "code",
      "execution_count": null,
      "metadata": {
        "colab": {
          "base_uri": "https://localhost:8080/"
        },
        "id": "seyIyUqNWYU3",
        "outputId": "780fb000-aa72-4120-98e9-dfc7b1ab8a72"
      },
      "outputs": [
        {
          "data": {
            "text/plain": [
              "0    0.191\n",
              "1    0.295\n",
              "2    0.287\n",
              "3    0.144\n",
              "4    0.060\n",
              "5    0.019\n",
              "6    0.005\n",
              "Name: grade, dtype: float64"
            ]
          },
          "execution_count": 39,
          "metadata": {},
          "output_type": "execute_result"
        }
      ],
      "source": [
        "np.round(test_df['grade'].value_counts()/len(test_df),3).sort_index()"
      ]
    },
    {
      "cell_type": "code",
      "execution_count": null,
      "metadata": {
        "id": "kEp_mApF1RV0"
      },
      "outputs": [],
      "source": [
        "X_train = train_df.drop(['int_rate', 'grade', 'sub_grade'], axis=1)\n",
        "y_train = train_df['grade']\n",
        "\n",
        "X_test = test_df.drop(['int_rate', 'grade', 'sub_grade'], axis=1)\n",
        "y_test = test_df['grade']"
      ]
    },
    {
      "cell_type": "code",
      "execution_count": null,
      "metadata": {
        "id": "fOZgAThaVvca"
      },
      "outputs": [],
      "source": [
        "kf = StratifiedKFold(n_splits=5, shuffle=True, random_state=0)\n",
        "\n",
        "categorical_features = ['home_ownership', 'purpose']\n",
        "numerical_features = list(X_train.select_dtypes(include=['float', 'int']).columns)\n",
        "\n",
        "numerical_transformer = Pipeline(steps=[\n",
        "    ('imputer', SimpleImputer(strategy='median')),\n",
        "    ('scaler', StandardScaler())\n",
        "])\n",
        "categorical_transformer = Pipeline(steps=[\n",
        "    ('imputer', SimpleImputer(strategy='most_frequent')),\n",
        "    ('onehot', OneHotEncoder(handle_unknown='ignore'))\n",
        "])\n",
        "preprocessor = ColumnTransformer(\n",
        "    transformers=[\n",
        "        ('num', numerical_transformer, numerical_features),\n",
        "        ('cat', categorical_transformer, categorical_features)\n",
        "])"
      ]
    },
    {
      "attachments": {},
      "cell_type": "markdown",
      "metadata": {
        "id": "1oENmU7VACih"
      },
      "source": [
        "### XGBoost"
      ]
    },
    {
      "cell_type": "code",
      "execution_count": null,
      "metadata": {
        "id": "ImxElQ9K0KiW"
      },
      "outputs": [],
      "source": [
        "xgb = XGBClassifier(objective='multi:softmax', num_class=7)\n",
        "pipeline = Pipeline(steps=[\n",
        "    ('preprocessor', preprocessor),\n",
        "    ('classifier', xgb)\n",
        "])\n",
        "params = {\n",
        "    'classifier__n_estimators': [50, 100, 200, 500, 1000],\n",
        "    'classifier__max_depth': [3, 5, 7, 10],\n",
        "    'classifier__learning_rate': [0.01, 0.05, 0.1, 0.2],\n",
        "    'classifier__subsample': [0.5, 0.7, 1.0],\n",
        "    'classifier__colsample_bytree': [0.5, 0.7, 1.0],\n",
        "}\n",
        "xgb_model2  = RandomizedSearchCV(pipeline, params, n_iter=5, cv=kf, n_jobs=-1,\n",
        "                                scoring='f1_weighted', random_state=0, verbose=2)\n",
        "xgb_model2.fit(X_train, y_train)\n",
        "pickle.dump(xgb_model2, open('2xgb.sav', 'wb'))"
      ]
    },
    {
      "cell_type": "code",
      "execution_count": null,
      "metadata": {
        "colab": {
          "base_uri": "https://localhost:8080/"
        },
        "id": "9ik6OHWfBXdO",
        "outputId": "903e287c-9d80-4b43-91fa-dd36aeb9524c"
      },
      "outputs": [
        {
          "name": "stdout",
          "output_type": "stream",
          "text": [
            "Score: 0.562\n"
          ]
        }
      ],
      "source": [
        "y_pred = xgb_model2.best_estimator_.predict(X_test)\n",
        "print('Score:', np.round(xgb_model2.score(X_test, y_test), 3))"
      ]
    },
    {
      "cell_type": "code",
      "execution_count": null,
      "metadata": {
        "colab": {
          "base_uri": "https://localhost:8080/"
        },
        "id": "U7U7vIhGtK58",
        "outputId": "e1ccc3af-6f3a-49fe-b4d3-b99447a68cfa"
      },
      "outputs": [
        {
          "name": "stdout",
          "output_type": "stream",
          "text": [
            "Best parameters:\n"
          ]
        },
        {
          "data": {
            "text/plain": [
              "{'classifier__subsample': 1.0,\n",
              " 'classifier__n_estimators': 1000,\n",
              " 'classifier__max_depth': 5,\n",
              " 'classifier__learning_rate': 0.1,\n",
              " 'classifier__colsample_bytree': 1.0}"
            ]
          },
          "execution_count": 45,
          "metadata": {},
          "output_type": "execute_result"
        }
      ],
      "source": [
        "print('Best parameters:')\n",
        "xgb_model2.best_params_"
      ]
    },
    {
      "cell_type": "code",
      "execution_count": null,
      "metadata": {
        "colab": {
          "base_uri": "https://localhost:8080/",
          "height": 520
        },
        "id": "_6BwmWGutK6D",
        "outputId": "834c9f0d-709a-4e7d-e4c7-f5480516595c"
      },
      "outputs": [
        {
          "data": {
            "text/html": [
              "\n",
              "  <div id=\"df-00fa23f6-a37e-4573-b8c8-d962b3380828\">\n",
              "    <div class=\"colab-df-container\">\n",
              "      <div>\n",
              "<style scoped>\n",
              "    .dataframe tbody tr th:only-of-type {\n",
              "        vertical-align: middle;\n",
              "    }\n",
              "\n",
              "    .dataframe tbody tr th {\n",
              "        vertical-align: top;\n",
              "    }\n",
              "\n",
              "    .dataframe thead th {\n",
              "        text-align: right;\n",
              "    }\n",
              "</style>\n",
              "<table border=\"1\" class=\"dataframe\">\n",
              "  <thead>\n",
              "    <tr style=\"text-align: right;\">\n",
              "      <th></th>\n",
              "      <th>Feature</th>\n",
              "      <th>Importance</th>\n",
              "    </tr>\n",
              "  </thead>\n",
              "  <tbody>\n",
              "    <tr>\n",
              "      <th>0</th>\n",
              "      <td>term</td>\n",
              "      <td>0.20</td>\n",
              "    </tr>\n",
              "    <tr>\n",
              "      <th>1</th>\n",
              "      <td>Risk Score</td>\n",
              "      <td>0.08</td>\n",
              "    </tr>\n",
              "    <tr>\n",
              "      <th>2</th>\n",
              "      <td>initial_list_status</td>\n",
              "      <td>0.07</td>\n",
              "    </tr>\n",
              "    <tr>\n",
              "      <th>3</th>\n",
              "      <td>disbursement_method</td>\n",
              "      <td>0.06</td>\n",
              "    </tr>\n",
              "    <tr>\n",
              "      <th>4</th>\n",
              "      <td>inq_last_6mths</td>\n",
              "      <td>0.03</td>\n",
              "    </tr>\n",
              "    <tr>\n",
              "      <th>5</th>\n",
              "      <td>installment</td>\n",
              "      <td>0.03</td>\n",
              "    </tr>\n",
              "    <tr>\n",
              "      <th>6</th>\n",
              "      <td>verification_status</td>\n",
              "      <td>0.03</td>\n",
              "    </tr>\n",
              "    <tr>\n",
              "      <th>7</th>\n",
              "      <td>num_tl_op_past_12m</td>\n",
              "      <td>0.03</td>\n",
              "    </tr>\n",
              "    <tr>\n",
              "      <th>8</th>\n",
              "      <td>dti</td>\n",
              "      <td>0.02</td>\n",
              "    </tr>\n",
              "    <tr>\n",
              "      <th>9</th>\n",
              "      <td>bc_open_to_buy</td>\n",
              "      <td>0.02</td>\n",
              "    </tr>\n",
              "    <tr>\n",
              "      <th>10</th>\n",
              "      <td>application_type</td>\n",
              "      <td>0.02</td>\n",
              "    </tr>\n",
              "    <tr>\n",
              "      <th>11</th>\n",
              "      <td>all_util</td>\n",
              "      <td>0.02</td>\n",
              "    </tr>\n",
              "    <tr>\n",
              "      <th>12</th>\n",
              "      <td>tot_hi_cred_lim</td>\n",
              "      <td>0.02</td>\n",
              "    </tr>\n",
              "    <tr>\n",
              "      <th>13</th>\n",
              "      <td>total_rev_hi_lim</td>\n",
              "      <td>0.01</td>\n",
              "    </tr>\n",
              "    <tr>\n",
              "      <th>14</th>\n",
              "      <td>acc_open_past_24mths</td>\n",
              "      <td>0.01</td>\n",
              "    </tr>\n",
              "  </tbody>\n",
              "</table>\n",
              "</div>\n",
              "      <button class=\"colab-df-convert\" onclick=\"convertToInteractive('df-00fa23f6-a37e-4573-b8c8-d962b3380828')\"\n",
              "              title=\"Convert this dataframe to an interactive table.\"\n",
              "              style=\"display:none;\">\n",
              "        \n",
              "  <svg xmlns=\"http://www.w3.org/2000/svg\" height=\"24px\"viewBox=\"0 0 24 24\"\n",
              "       width=\"24px\">\n",
              "    <path d=\"M0 0h24v24H0V0z\" fill=\"none\"/>\n",
              "    <path d=\"M18.56 5.44l.94 2.06.94-2.06 2.06-.94-2.06-.94-.94-2.06-.94 2.06-2.06.94zm-11 1L8.5 8.5l.94-2.06 2.06-.94-2.06-.94L8.5 2.5l-.94 2.06-2.06.94zm10 10l.94 2.06.94-2.06 2.06-.94-2.06-.94-.94-2.06-.94 2.06-2.06.94z\"/><path d=\"M17.41 7.96l-1.37-1.37c-.4-.4-.92-.59-1.43-.59-.52 0-1.04.2-1.43.59L10.3 9.45l-7.72 7.72c-.78.78-.78 2.05 0 2.83L4 21.41c.39.39.9.59 1.41.59.51 0 1.02-.2 1.41-.59l7.78-7.78 2.81-2.81c.8-.78.8-2.07 0-2.86zM5.41 20L4 18.59l7.72-7.72 1.47 1.35L5.41 20z\"/>\n",
              "  </svg>\n",
              "      </button>\n",
              "      \n",
              "  <style>\n",
              "    .colab-df-container {\n",
              "      display:flex;\n",
              "      flex-wrap:wrap;\n",
              "      gap: 12px;\n",
              "    }\n",
              "\n",
              "    .colab-df-convert {\n",
              "      background-color: #E8F0FE;\n",
              "      border: none;\n",
              "      border-radius: 50%;\n",
              "      cursor: pointer;\n",
              "      display: none;\n",
              "      fill: #1967D2;\n",
              "      height: 32px;\n",
              "      padding: 0 0 0 0;\n",
              "      width: 32px;\n",
              "    }\n",
              "\n",
              "    .colab-df-convert:hover {\n",
              "      background-color: #E2EBFA;\n",
              "      box-shadow: 0px 1px 2px rgba(60, 64, 67, 0.3), 0px 1px 3px 1px rgba(60, 64, 67, 0.15);\n",
              "      fill: #174EA6;\n",
              "    }\n",
              "\n",
              "    [theme=dark] .colab-df-convert {\n",
              "      background-color: #3B4455;\n",
              "      fill: #D2E3FC;\n",
              "    }\n",
              "\n",
              "    [theme=dark] .colab-df-convert:hover {\n",
              "      background-color: #434B5C;\n",
              "      box-shadow: 0px 1px 3px 1px rgba(0, 0, 0, 0.15);\n",
              "      filter: drop-shadow(0px 1px 2px rgba(0, 0, 0, 0.3));\n",
              "      fill: #FFFFFF;\n",
              "    }\n",
              "  </style>\n",
              "\n",
              "      <script>\n",
              "        const buttonEl =\n",
              "          document.querySelector('#df-00fa23f6-a37e-4573-b8c8-d962b3380828 button.colab-df-convert');\n",
              "        buttonEl.style.display =\n",
              "          google.colab.kernel.accessAllowed ? 'block' : 'none';\n",
              "\n",
              "        async function convertToInteractive(key) {\n",
              "          const element = document.querySelector('#df-00fa23f6-a37e-4573-b8c8-d962b3380828');\n",
              "          const dataTable =\n",
              "            await google.colab.kernel.invokeFunction('convertToInteractive',\n",
              "                                                     [key], {});\n",
              "          if (!dataTable) return;\n",
              "\n",
              "          const docLinkHtml = 'Like what you see? Visit the ' +\n",
              "            '<a target=\"_blank\" href=https://colab.research.google.com/notebooks/data_table.ipynb>data table notebook</a>'\n",
              "            + ' to learn more about interactive tables.';\n",
              "          element.innerHTML = '';\n",
              "          dataTable['output_type'] = 'display_data';\n",
              "          await google.colab.output.renderOutput(dataTable, element);\n",
              "          const docLink = document.createElement('div');\n",
              "          docLink.innerHTML = docLinkHtml;\n",
              "          element.appendChild(docLink);\n",
              "        }\n",
              "      </script>\n",
              "    </div>\n",
              "  </div>\n",
              "  "
            ],
            "text/plain": [
              "                 Feature  Importance\n",
              "0                   term        0.20\n",
              "1             Risk Score        0.08\n",
              "2    initial_list_status        0.07\n",
              "3    disbursement_method        0.06\n",
              "4         inq_last_6mths        0.03\n",
              "5            installment        0.03\n",
              "6    verification_status        0.03\n",
              "7     num_tl_op_past_12m        0.03\n",
              "8                    dti        0.02\n",
              "9         bc_open_to_buy        0.02\n",
              "10      application_type        0.02\n",
              "11              all_util        0.02\n",
              "12       tot_hi_cred_lim        0.02\n",
              "13      total_rev_hi_lim        0.01\n",
              "14  acc_open_past_24mths        0.01"
            ]
          },
          "execution_count": 46,
          "metadata": {},
          "output_type": "execute_result"
        }
      ],
      "source": [
        "importances = xgb_model2.best_estimator_.named_steps['classifier'].feature_importances_\n",
        "feature_importances = [(importance, feature) for importance, feature \n",
        "                       in zip(importances, X_train.columns)]\n",
        "feature_importances.sort(reverse=True)\n",
        "t = pd.DataFrame(feature_importances, columns=['Importance', 'Feature'])\n",
        "t[['Feature', 'Importance']].round(2).head(15)"
      ]
    },
    {
      "cell_type": "code",
      "execution_count": null,
      "metadata": {
        "colab": {
          "base_uri": "https://localhost:8080/"
        },
        "id": "TATrfG3fJILE",
        "outputId": "39a8cac7-e4cf-4c27-a51f-98e33d2dfd13"
      },
      "outputs": [
        {
          "name": "stdout",
          "output_type": "stream",
          "text": [
            "              precision    recall  f1-score   support\n",
            "\n",
            "           0       0.71      0.84      0.77      1910\n",
            "           1       0.66      0.59      0.62      2950\n",
            "           2       0.61      0.48      0.53      2870\n",
            "           3       0.42      0.37      0.39      1440\n",
            "           4       0.23      0.32      0.27       600\n",
            "           5       0.17      0.41      0.24       190\n",
            "           6       0.10      0.66      0.18        50\n",
            "\n",
            "    accuracy                           0.55     10010\n",
            "   macro avg       0.42      0.52      0.43     10010\n",
            "weighted avg       0.58      0.55      0.56     10010\n",
            "\n"
          ]
        }
      ],
      "source": [
        "print(classification_report(y_test, y_pred, zero_division=1))"
      ]
    },
    {
      "cell_type": "code",
      "execution_count": null,
      "metadata": {
        "colab": {
          "base_uri": "https://localhost:8080/",
          "height": 472
        },
        "id": "kRl_rmnu2F4S",
        "outputId": "7bb5f2cb-e480-4b11-f76e-2dd4467fd638"
      },
      "outputs": [
        {
          "data": {
            "image/png": "[encoded data removed]",
            "text/plain": [
              "<Figure size 640x480 with 2 Axes>"
            ]
          },
          "metadata": {},
          "output_type": "display_data"
        }
      ],
      "source": [
        "conf_matrix = confusion_matrix(y_pred, y_test)\n",
        "sns.heatmap(conf_matrix, annot=True, fmt='.0f')\n",
        "plt.xlabel('Predicted Grade')\n",
        "plt.ylabel('True Grade')\n",
        "plt.title('Confusion Matrix');"
      ]
    },
    {
      "attachments": {},
      "cell_type": "markdown",
      "metadata": {
        "id": "0ZAgvU1PokCh"
      },
      "source": [
        "### CatBoost"
      ]
    },
    {
      "cell_type": "code",
      "execution_count": null,
      "metadata": {
        "id": "z4rMisRQokCj"
      },
      "outputs": [],
      "source": [
        "cat = CatBoostClassifier(eval_metric='TotalF1:average=Weighted')\n",
        "pipeline = Pipeline(steps=[\n",
        "    ('preprocessor', preprocessor),\n",
        "    ('classifier', cat)\n",
        "])\n",
        "params = {\n",
        "    'classifier__iterations': [50, 100, 200, 500, 1000],\n",
        "    'classifier__depth': [3, 5, 7, 10],\n",
        "    'classifier__learning_rate': [0.01, 0.05, 0.1, 0.2],\n",
        "    'classifier__bagging_temperature': [0.5, 0.7, 1.0],\n",
        "    'classifier__border_count': [32, 5, 10, 20, 50, 100, 200],\n",
        "}\n",
        "cat_model2 = RandomizedSearchCV(pipeline, params, n_iter=4, cv=kf, n_jobs=-1,\n",
        "                                scoring='f1_weighted', random_state=1, verbose=2)\n",
        "cat_model2.fit(X_train, y_train)\n",
        "pickle.dump(cat_model2, open('2catb.sav', 'wb'))"
      ]
    },
    {
      "cell_type": "code",
      "execution_count": null,
      "metadata": {
        "colab": {
          "base_uri": "https://localhost:8080/"
        },
        "id": "OSmGWWWiokCw",
        "outputId": "028b14ca-d913-411b-db79-3844bad2f78c"
      },
      "outputs": [
        {
          "name": "stdout",
          "output_type": "stream",
          "text": [
            "Score: 0.451\n"
          ]
        }
      ],
      "source": [
        "y_pred = cat_model2.predict(X_test)\n",
        "print('Score:', np.round(cat_model2.score(X_test, y_test), 3))"
      ]
    },
    {
      "cell_type": "code",
      "execution_count": null,
      "metadata": {
        "colab": {
          "base_uri": "https://localhost:8080/"
        },
        "id": "rUqQM_0iokC2",
        "outputId": "66826611-29c2-42e2-84cb-b10bedefaa48"
      },
      "outputs": [
        {
          "name": "stdout",
          "output_type": "stream",
          "text": [
            "              precision    recall  f1-score   support\n",
            "\n",
            "           0       0.62      0.77      0.69      1910\n",
            "           1       0.51      0.51      0.51      2950\n",
            "           2       0.50      0.32      0.39      2870\n",
            "           3       0.29      0.25      0.27      1440\n",
            "           4       0.20      0.31      0.24       600\n",
            "           5       0.14      0.29      0.19       190\n",
            "           6       0.08      0.60      0.15        50\n",
            "\n",
            "    accuracy                           0.45     10010\n",
            "   macro avg       0.34      0.44      0.35     10010\n",
            "weighted avg       0.47      0.45      0.45     10010\n",
            "\n"
          ]
        }
      ],
      "source": [
        "print(classification_report(y_test, y_pred))"
      ]
    },
    {
      "attachments": {},
      "cell_type": "markdown",
      "metadata": {
        "id": "sRK0JWwvDVy8"
      },
      "source": [
        "### AutoML"
      ]
    },
    {
      "cell_type": "code",
      "execution_count": null,
      "metadata": {
        "id": "yij1d9j6E7yq"
      },
      "outputs": [],
      "source": [
        "automl_model2 = autosklearn.classification.AutoSklearnClassifier(\n",
        "  seed=1, n_jobs=-1, metric=f1_weighted\n",
        ")\n",
        "automl_model2.fit(X_train, y_train)\n",
        "pickle.dump(automl_model2, open('2automl.sav', 'wb'))"
      ]
    },
    {
      "cell_type": "code",
      "execution_count": null,
      "metadata": {
        "colab": {
          "base_uri": "https://localhost:8080/"
        },
        "id": "ZfHBREc5E7y1",
        "outputId": "3578262f-00c4-45d6-d42f-d99ee01117fd"
      },
      "outputs": [
        {
          "name": "stdout",
          "output_type": "stream",
          "text": [
            "Score: 0.415\n"
          ]
        }
      ],
      "source": [
        "y_pred = automl_model2.predict(X_test)\n",
        "print('Score:', np.round(automl_model2.score(X_test, y_test), 3))"
      ]
    },
    {
      "cell_type": "code",
      "execution_count": null,
      "metadata": {
        "colab": {
          "base_uri": "https://localhost:8080/",
          "height": 708
        },
        "id": "EQP3kaD1E7y2",
        "outputId": "8cc71c4e-5d5b-4e34-d34b-0ab2ae689faf"
      },
      "outputs": [
        {
          "data": {
            "text/html": [
              "\n",
              "  <div id=\"df-b3523291-cc94-4dc6-a0d4-67c156eb104e\">\n",
              "    <div class=\"colab-df-container\">\n",
              "      <div>\n",
              "<style scoped>\n",
              "    .dataframe tbody tr th:only-of-type {\n",
              "        vertical-align: middle;\n",
              "    }\n",
              "\n",
              "    .dataframe tbody tr th {\n",
              "        vertical-align: top;\n",
              "    }\n",
              "\n",
              "    .dataframe thead th {\n",
              "        text-align: right;\n",
              "    }\n",
              "</style>\n",
              "<table border=\"1\" class=\"dataframe\">\n",
              "  <thead>\n",
              "    <tr style=\"text-align: right;\">\n",
              "      <th></th>\n",
              "      <th>rank</th>\n",
              "      <th>ensemble_weight</th>\n",
              "      <th>type</th>\n",
              "      <th>cost</th>\n",
              "      <th>duration</th>\n",
              "    </tr>\n",
              "    <tr>\n",
              "      <th>model_id</th>\n",
              "      <th></th>\n",
              "      <th></th>\n",
              "      <th></th>\n",
              "      <th></th>\n",
              "      <th></th>\n",
              "    </tr>\n",
              "  </thead>\n",
              "  <tbody>\n",
              "    <tr>\n",
              "      <th>148</th>\n",
              "      <td>1</td>\n",
              "      <td>0.06</td>\n",
              "      <td>lda</td>\n",
              "      <td>0.620653</td>\n",
              "      <td>11.704327</td>\n",
              "    </tr>\n",
              "    <tr>\n",
              "      <th>158</th>\n",
              "      <td>2</td>\n",
              "      <td>0.08</td>\n",
              "      <td>lda</td>\n",
              "      <td>0.620866</td>\n",
              "      <td>11.048103</td>\n",
              "    </tr>\n",
              "    <tr>\n",
              "      <th>110</th>\n",
              "      <td>3</td>\n",
              "      <td>0.04</td>\n",
              "      <td>lda</td>\n",
              "      <td>0.623254</td>\n",
              "      <td>11.366207</td>\n",
              "    </tr>\n",
              "    <tr>\n",
              "      <th>174</th>\n",
              "      <td>4</td>\n",
              "      <td>0.02</td>\n",
              "      <td>lda</td>\n",
              "      <td>0.623639</td>\n",
              "      <td>11.058584</td>\n",
              "    </tr>\n",
              "    <tr>\n",
              "      <th>86</th>\n",
              "      <td>5</td>\n",
              "      <td>0.08</td>\n",
              "      <td>lda</td>\n",
              "      <td>0.624922</td>\n",
              "      <td>10.269186</td>\n",
              "    </tr>\n",
              "    <tr>\n",
              "      <th>166</th>\n",
              "      <td>6</td>\n",
              "      <td>0.02</td>\n",
              "      <td>lda</td>\n",
              "      <td>0.625458</td>\n",
              "      <td>9.234477</td>\n",
              "    </tr>\n",
              "    <tr>\n",
              "      <th>100</th>\n",
              "      <td>7</td>\n",
              "      <td>0.18</td>\n",
              "      <td>lda</td>\n",
              "      <td>0.625545</td>\n",
              "      <td>11.735854</td>\n",
              "    </tr>\n",
              "    <tr>\n",
              "      <th>138</th>\n",
              "      <td>8</td>\n",
              "      <td>0.14</td>\n",
              "      <td>lda</td>\n",
              "      <td>0.625724</td>\n",
              "      <td>10.931572</td>\n",
              "    </tr>\n",
              "    <tr>\n",
              "      <th>125</th>\n",
              "      <td>9</td>\n",
              "      <td>0.08</td>\n",
              "      <td>lda</td>\n",
              "      <td>0.629530</td>\n",
              "      <td>11.891962</td>\n",
              "    </tr>\n",
              "    <tr>\n",
              "      <th>129</th>\n",
              "      <td>10</td>\n",
              "      <td>0.02</td>\n",
              "      <td>lda</td>\n",
              "      <td>0.633747</td>\n",
              "      <td>12.199289</td>\n",
              "    </tr>\n",
              "    <tr>\n",
              "      <th>131</th>\n",
              "      <td>11</td>\n",
              "      <td>0.02</td>\n",
              "      <td>lda</td>\n",
              "      <td>0.637258</td>\n",
              "      <td>10.587503</td>\n",
              "    </tr>\n",
              "    <tr>\n",
              "      <th>98</th>\n",
              "      <td>12</td>\n",
              "      <td>0.02</td>\n",
              "      <td>lda</td>\n",
              "      <td>0.641429</td>\n",
              "      <td>6.229011</td>\n",
              "    </tr>\n",
              "    <tr>\n",
              "      <th>147</th>\n",
              "      <td>13</td>\n",
              "      <td>0.06</td>\n",
              "      <td>lda</td>\n",
              "      <td>0.641868</td>\n",
              "      <td>9.727077</td>\n",
              "    </tr>\n",
              "    <tr>\n",
              "      <th>63</th>\n",
              "      <td>14</td>\n",
              "      <td>0.04</td>\n",
              "      <td>decision_tree</td>\n",
              "      <td>0.647999</td>\n",
              "      <td>10.964243</td>\n",
              "    </tr>\n",
              "    <tr>\n",
              "      <th>104</th>\n",
              "      <td>15</td>\n",
              "      <td>0.02</td>\n",
              "      <td>lda</td>\n",
              "      <td>0.648664</td>\n",
              "      <td>10.274320</td>\n",
              "    </tr>\n",
              "    <tr>\n",
              "      <th>113</th>\n",
              "      <td>16</td>\n",
              "      <td>0.02</td>\n",
              "      <td>lda</td>\n",
              "      <td>0.654765</td>\n",
              "      <td>9.531879</td>\n",
              "    </tr>\n",
              "    <tr>\n",
              "      <th>83</th>\n",
              "      <td>17</td>\n",
              "      <td>0.02</td>\n",
              "      <td>decision_tree</td>\n",
              "      <td>0.657730</td>\n",
              "      <td>10.084865</td>\n",
              "    </tr>\n",
              "    <tr>\n",
              "      <th>35</th>\n",
              "      <td>18</td>\n",
              "      <td>0.04</td>\n",
              "      <td>decision_tree</td>\n",
              "      <td>0.667160</td>\n",
              "      <td>9.522398</td>\n",
              "    </tr>\n",
              "    <tr>\n",
              "      <th>82</th>\n",
              "      <td>19</td>\n",
              "      <td>0.02</td>\n",
              "      <td>decision_tree</td>\n",
              "      <td>0.673707</td>\n",
              "      <td>116.123784</td>\n",
              "    </tr>\n",
              "    <tr>\n",
              "      <th>150</th>\n",
              "      <td>20</td>\n",
              "      <td>0.02</td>\n",
              "      <td>gaussian_nb</td>\n",
              "      <td>0.680448</td>\n",
              "      <td>12.902084</td>\n",
              "    </tr>\n",
              "  </tbody>\n",
              "</table>\n",
              "</div>\n",
              "      <button class=\"colab-df-convert\" onclick=\"convertToInteractive('df-b3523291-cc94-4dc6-a0d4-67c156eb104e')\"\n",
              "              title=\"Convert this dataframe to an interactive table.\"\n",
              "              style=\"display:none;\">\n",
              "        \n",
              "  <svg xmlns=\"http://www.w3.org/2000/svg\" height=\"24px\"viewBox=\"0 0 24 24\"\n",
              "       width=\"24px\">\n",
              "    <path d=\"M0 0h24v24H0V0z\" fill=\"none\"/>\n",
              "    <path d=\"M18.56 5.44l.94 2.06.94-2.06 2.06-.94-2.06-.94-.94-2.06-.94 2.06-2.06.94zm-11 1L8.5 8.5l.94-2.06 2.06-.94-2.06-.94L8.5 2.5l-.94 2.06-2.06.94zm10 10l.94 2.06.94-2.06 2.06-.94-2.06-.94-.94-2.06-.94 2.06-2.06.94z\"/><path d=\"M17.41 7.96l-1.37-1.37c-.4-.4-.92-.59-1.43-.59-.52 0-1.04.2-1.43.59L10.3 9.45l-7.72 7.72c-.78.78-.78 2.05 0 2.83L4 21.41c.39.39.9.59 1.41.59.51 0 1.02-.2 1.41-.59l7.78-7.78 2.81-2.81c.8-.78.8-2.07 0-2.86zM5.41 20L4 18.59l7.72-7.72 1.47 1.35L5.41 20z\"/>\n",
              "  </svg>\n",
              "      </button>\n",
              "      \n",
              "  <style>\n",
              "    .colab-df-container {\n",
              "      display:flex;\n",
              "      flex-wrap:wrap;\n",
              "      gap: 12px;\n",
              "    }\n",
              "\n",
              "    .colab-df-convert {\n",
              "      background-color: #E8F0FE;\n",
              "      border: none;\n",
              "      border-radius: 50%;\n",
              "      cursor: pointer;\n",
              "      display: none;\n",
              "      fill: #1967D2;\n",
              "      height: 32px;\n",
              "      padding: 0 0 0 0;\n",
              "      width: 32px;\n",
              "    }\n",
              "\n",
              "    .colab-df-convert:hover {\n",
              "      background-color: #E2EBFA;\n",
              "      box-shadow: 0px 1px 2px rgba(60, 64, 67, 0.3), 0px 1px 3px 1px rgba(60, 64, 67, 0.15);\n",
              "      fill: #174EA6;\n",
              "    }\n",
              "\n",
              "    [theme=dark] .colab-df-convert {\n",
              "      background-color: #3B4455;\n",
              "      fill: #D2E3FC;\n",
              "    }\n",
              "\n",
              "    [theme=dark] .colab-df-convert:hover {\n",
              "      background-color: #434B5C;\n",
              "      box-shadow: 0px 1px 3px 1px rgba(0, 0, 0, 0.15);\n",
              "      filter: drop-shadow(0px 1px 2px rgba(0, 0, 0, 0.3));\n",
              "      fill: #FFFFFF;\n",
              "    }\n",
              "  </style>\n",
              "\n",
              "      <script>\n",
              "        const buttonEl =\n",
              "          document.querySelector('#df-b3523291-cc94-4dc6-a0d4-67c156eb104e button.colab-df-convert');\n",
              "        buttonEl.style.display =\n",
              "          google.colab.kernel.accessAllowed ? 'block' : 'none';\n",
              "\n",
              "        async function convertToInteractive(key) {\n",
              "          const element = document.querySelector('#df-b3523291-cc94-4dc6-a0d4-67c156eb104e');\n",
              "          const dataTable =\n",
              "            await google.colab.kernel.invokeFunction('convertToInteractive',\n",
              "                                                     [key], {});\n",
              "          if (!dataTable) return;\n",
              "\n",
              "          const docLinkHtml = 'Like what you see? Visit the ' +\n",
              "            '<a target=\"_blank\" href=https://colab.research.google.com/notebooks/data_table.ipynb>data table notebook</a>'\n",
              "            + ' to learn more about interactive tables.';\n",
              "          element.innerHTML = '';\n",
              "          dataTable['output_type'] = 'display_data';\n",
              "          await google.colab.output.renderOutput(dataTable, element);\n",
              "          const docLink = document.createElement('div');\n",
              "          docLink.innerHTML = docLinkHtml;\n",
              "          element.appendChild(docLink);\n",
              "        }\n",
              "      </script>\n",
              "    </div>\n",
              "  </div>\n",
              "  "
            ],
            "text/plain": [
              "          rank  ensemble_weight           type      cost    duration\n",
              "model_id                                                            \n",
              "148          1             0.06            lda  0.620653   11.704327\n",
              "158          2             0.08            lda  0.620866   11.048103\n",
              "110          3             0.04            lda  0.623254   11.366207\n",
              "174          4             0.02            lda  0.623639   11.058584\n",
              "86           5             0.08            lda  0.624922   10.269186\n",
              "166          6             0.02            lda  0.625458    9.234477\n",
              "100          7             0.18            lda  0.625545   11.735854\n",
              "138          8             0.14            lda  0.625724   10.931572\n",
              "125          9             0.08            lda  0.629530   11.891962\n",
              "129         10             0.02            lda  0.633747   12.199289\n",
              "131         11             0.02            lda  0.637258   10.587503\n",
              "98          12             0.02            lda  0.641429    6.229011\n",
              "147         13             0.06            lda  0.641868    9.727077\n",
              "63          14             0.04  decision_tree  0.647999   10.964243\n",
              "104         15             0.02            lda  0.648664   10.274320\n",
              "113         16             0.02            lda  0.654765    9.531879\n",
              "83          17             0.02  decision_tree  0.657730   10.084865\n",
              "35          18             0.04  decision_tree  0.667160    9.522398\n",
              "82          19             0.02  decision_tree  0.673707  116.123784\n",
              "150         20             0.02    gaussian_nb  0.680448   12.902084"
            ]
          },
          "execution_count": 61,
          "metadata": {},
          "output_type": "execute_result"
        }
      ],
      "source": [
        "automl_model2.leaderboard()"
      ]
    },
    {
      "cell_type": "code",
      "execution_count": null,
      "metadata": {
        "colab": {
          "base_uri": "https://localhost:8080/"
        },
        "id": "Q5_i8K0eE7y2",
        "outputId": "a1c4ab08-d743-4344-b552-8767ab762432"
      },
      "outputs": [
        {
          "name": "stdout",
          "output_type": "stream",
          "text": [
            "auto-sklearn results:\n",
            "  Dataset name: 58cfa7f0-f0aa-11ed-9ac2-0242ac1c000c\n",
            "  Metric: f1_weighted\n",
            "  Best validation score: 0.379347\n",
            "  Number of target algorithm runs: 179\n",
            "  Number of successful target algorithm runs: 70\n",
            "  Number of crashed target algorithm runs: 76\n",
            "  Number of target algorithms that exceeded the time limit: 1\n",
            "  Number of target algorithms that exceeded the memory limit: 32\n",
            "\n"
          ]
        }
      ],
      "source": [
        "print(automl_model2.sprint_statistics())"
      ]
    },
    {
      "cell_type": "code",
      "execution_count": null,
      "metadata": {
        "colab": {
          "base_uri": "https://localhost:8080/"
        },
        "id": "4C9Ket-LE7y3",
        "outputId": "1596c8a0-c4e1-4a51-f5c1-e1d152781cb3"
      },
      "outputs": [
        {
          "name": "stdout",
          "output_type": "stream",
          "text": [
            "              precision    recall  f1-score   support\n",
            "\n",
            "           0       0.57      0.74      0.65      1910\n",
            "           1       0.47      0.43      0.45      2950\n",
            "           2       0.46      0.29      0.35      2870\n",
            "           3       0.30      0.26      0.28      1440\n",
            "           4       0.19      0.25      0.21       600\n",
            "           5       0.10      0.28      0.15       190\n",
            "           6       0.05      0.48      0.10        50\n",
            "\n",
            "    accuracy                           0.41     10010\n",
            "   macro avg       0.31      0.39      0.31     10010\n",
            "weighted avg       0.44      0.41      0.41     10010\n",
            "\n"
          ]
        }
      ],
      "source": [
        "print(classification_report(y_test, y_pred))"
      ]
    },
    {
      "cell_type": "code",
      "execution_count": null,
      "metadata": {
        "id": "Lq3xAS0_q8PT"
      },
      "outputs": [],
      "source": [
        "data = [\n",
        "    ['XGBoost', 0.56, 0.43, 0.55],\n",
        "    ['Catboost', 0.45, 0.35, 0.45],\n",
        "    ['AutoML', 0.41, 0.31, 0.41]]\n",
        "columns = ['Model', 'F1 weighted score', 'F1 macro score', 'Accuracy']\n",
        "t = pd.DataFrame(data, columns=columns)"
      ]
    },
    {
      "cell_type": "code",
      "execution_count": null,
      "metadata": {
        "colab": {
          "base_uri": "https://localhost:8080/",
          "height": 143
        },
        "id": "8ufnPS3Nq8PW",
        "outputId": "d2c02add-1208-47e4-cdce-3854dafa5ecc"
      },
      "outputs": [
        {
          "data": {
            "text/html": [
              "<style type=\"text/css\">\n",
              "#T_bff22_row0_col1 {\n",
              "  background-color: #569dc8;\n",
              "  color: #f1f1f1;\n",
              "}\n",
              "#T_bff22_row0_col2 {\n",
              "  background-color: #8fb4d6;\n",
              "  color: #000000;\n",
              "}\n",
              "#T_bff22_row0_col3 {\n",
              "  background-color: #5c9fc9;\n",
              "  color: #f1f1f1;\n",
              "}\n",
              "#T_bff22_row1_col1, #T_bff22_row1_col3 {\n",
              "  background-color: #88b1d4;\n",
              "  color: #000000;\n",
              "}\n",
              "#T_bff22_row1_col2 {\n",
              "  background-color: #afc1dd;\n",
              "  color: #000000;\n",
              "}\n",
              "#T_bff22_row2_col1, #T_bff22_row2_col3 {\n",
              "  background-color: #99b8d8;\n",
              "  color: #000000;\n",
              "}\n",
              "#T_bff22_row2_col2 {\n",
              "  background-color: #bcc7e1;\n",
              "  color: #000000;\n",
              "}\n",
              "</style>\n",
              "<table id=\"T_bff22\" class=\"dataframe\">\n",
              "  <thead>\n",
              "    <tr>\n",
              "      <th class=\"blank level0\" >&nbsp;</th>\n",
              "      <th id=\"T_bff22_level0_col0\" class=\"col_heading level0 col0\" >Model</th>\n",
              "      <th id=\"T_bff22_level0_col1\" class=\"col_heading level0 col1\" >F1 weighted score</th>\n",
              "      <th id=\"T_bff22_level0_col2\" class=\"col_heading level0 col2\" >F1 macro score</th>\n",
              "      <th id=\"T_bff22_level0_col3\" class=\"col_heading level0 col3\" >Accuracy</th>\n",
              "    </tr>\n",
              "  </thead>\n",
              "  <tbody>\n",
              "    <tr>\n",
              "      <th id=\"T_bff22_level0_row0\" class=\"row_heading level0 row0\" >0</th>\n",
              "      <td id=\"T_bff22_row0_col0\" class=\"data row0 col0\" >XGBoost</td>\n",
              "      <td id=\"T_bff22_row0_col1\" class=\"data row0 col1\" >0.56</td>\n",
              "      <td id=\"T_bff22_row0_col2\" class=\"data row0 col2\" >0.43</td>\n",
              "      <td id=\"T_bff22_row0_col3\" class=\"data row0 col3\" >0.55</td>\n",
              "    </tr>\n",
              "    <tr>\n",
              "      <th id=\"T_bff22_level0_row1\" class=\"row_heading level0 row1\" >1</th>\n",
              "      <td id=\"T_bff22_row1_col0\" class=\"data row1 col0\" >Catboost</td>\n",
              "      <td id=\"T_bff22_row1_col1\" class=\"data row1 col1\" >0.45</td>\n",
              "      <td id=\"T_bff22_row1_col2\" class=\"data row1 col2\" >0.35</td>\n",
              "      <td id=\"T_bff22_row1_col3\" class=\"data row1 col3\" >0.45</td>\n",
              "    </tr>\n",
              "    <tr>\n",
              "      <th id=\"T_bff22_level0_row2\" class=\"row_heading level0 row2\" >2</th>\n",
              "      <td id=\"T_bff22_row2_col0\" class=\"data row2 col0\" >AutoML</td>\n",
              "      <td id=\"T_bff22_row2_col1\" class=\"data row2 col1\" >0.41</td>\n",
              "      <td id=\"T_bff22_row2_col2\" class=\"data row2 col2\" >0.31</td>\n",
              "      <td id=\"T_bff22_row2_col3\" class=\"data row2 col3\" >0.41</td>\n",
              "    </tr>\n",
              "  </tbody>\n",
              "</table>\n"
            ],
            "text/plain": [
              "<pandas.io.formats.style.Styler at 0x7f0708d9e4a0>"
            ]
          },
          "execution_count": 80,
          "metadata": {},
          "output_type": "execute_result"
        }
      ],
      "source": [
        "t.style.format(precision=2).background_gradient(cmap='PuBu', vmin=0, vmax=1)"
      ]
    },
    {
      "attachments": {},
      "cell_type": "markdown",
      "metadata": {
        "id": "bHd7_lynX8hi"
      },
      "source": [
        "## Interest rate"
      ]
    },
    {
      "cell_type": "code",
      "execution_count": null,
      "metadata": {
        "id": "-nTV8hscjZlp"
      },
      "outputs": [],
      "source": [
        "with open('train_dataset.pkl', 'rb') as f:\n",
        "    train_df = pickle.load(f)\n",
        "with open('test_dataset.pkl', 'rb') as f:\n",
        "    test_df = pickle.load(f)\n",
        "    \n",
        "train_df = preprocessing(train_df)\n",
        "test_df = preprocessing(test_df)\n",
        "\n",
        "X_train = train_df.drop(['int_rate', 'grade', 'sub_grade'], axis=1)\n",
        "y_train = train_df['int_rate']\n",
        "\n",
        "X_test = test_df.drop(['int_rate', 'grade', 'sub_grade'], axis=1)\n",
        "y_test = test_df['int_rate']"
      ]
    },
    {
      "cell_type": "code",
      "execution_count": null,
      "metadata": {
        "id": "mu2Q7LjnApJz"
      },
      "outputs": [],
      "source": [
        "kf = StratifiedKFold(n_splits=5, shuffle=True, random_state=0)\n",
        "\n",
        "categorical_features = ['home_ownership', 'purpose']\n",
        "numerical_features = list(X_train.select_dtypes(include=['float', 'int']).columns)\n",
        "\n",
        "numerical_transformer = Pipeline(steps=[\n",
        "    ('imputer', SimpleImputer(strategy='median')),\n",
        "    ('scaler', StandardScaler())\n",
        "])\n",
        "categorical_transformer = Pipeline(steps=[\n",
        "    ('imputer', SimpleImputer(strategy='most_frequent')),\n",
        "    ('onehot', OneHotEncoder(handle_unknown='ignore'))\n",
        "])\n",
        "preprocessor = ColumnTransformer(\n",
        "    transformers=[\n",
        "        ('num', numerical_transformer, numerical_features),\n",
        "        ('cat', categorical_transformer, categorical_features)\n",
        "])"
      ]
    },
    {
      "cell_type": "code",
      "execution_count": null,
      "metadata": {
        "id": "U4_Pw71S1xIz"
      },
      "outputs": [],
      "source": [
        "def evaluate_regression(y_pred):\n",
        "  mse = np.round(mean_squared_error(y_test, y_pred),2)\n",
        "  rmse = np.round(mean_squared_error(y_test, y_pred, squared=False),2)\n",
        "  mae = np.round(mean_absolute_error(y_test, y_pred),2)\n",
        "  r2 = np.round(r2_score(y_test, y_pred),2)\n",
        "  print(f'MSE: {mse}, RMSE: {rmse}, MAE: {mae}, R2: {r2}')"
      ]
    },
    {
      "attachments": {},
      "cell_type": "markdown",
      "metadata": {
        "id": "cdgPA77Vg774"
      },
      "source": [
        "### XGBoost"
      ]
    },
    {
      "cell_type": "code",
      "execution_count": null,
      "metadata": {
        "colab": {
          "base_uri": "https://localhost:8080/"
        },
        "id": "rgBDspAjhjch",
        "outputId": "0cae4624-955f-47c1-8669-24c03ee9edde"
      },
      "outputs": [
        {
          "name": "stdout",
          "output_type": "stream",
          "text": [
            "Fitting 5 folds for each of 5 candidates, totalling 25 fits\n"
          ]
        }
      ],
      "source": [
        "xgb = XGBRegressor(objective='reg:squarederror')\n",
        "pipeline = Pipeline(steps=[\n",
        "    ('preprocessor', preprocessor),\n",
        "    ('regressor', xgb)\n",
        "])\n",
        "params = {\n",
        "    'regressor__n_estimators': [200, 500, 1000, 1500],\n",
        "    'regressor__max_depth': [3, 5, 6, 7, 10],\n",
        "    'regressor__learning_rate': [0.01, 0.05, 0.075, 0.1, 0.2]\n",
        "}\n",
        "xgb_model3  = RandomizedSearchCV(pipeline, params, n_iter=5, cv=kf, n_jobs=-1,\n",
        "                                scoring='neg_mean_squared_error', random_state=1, \n",
        "                                verbose=2)\n",
        "xgb_model3.fit(X_train, y_train)\n",
        "pickle.dump(xgb_model3, open('3xgb.sav', 'wb'))"
      ]
    },
    {
      "cell_type": "code",
      "execution_count": null,
      "metadata": {
        "colab": {
          "base_uri": "https://localhost:8080/"
        },
        "id": "bBpoWK-07POg",
        "outputId": "9d322639-89f7-4684-93ac-2d2769c16662"
      },
      "outputs": [
        {
          "name": "stdout",
          "output_type": "stream",
          "text": [
            "MSE: 14.87, RMSE: 3.86, MAE: 2.97, R2: 0.35\n"
          ]
        }
      ],
      "source": [
        "y_pred = xgb_model3.best_estimator_.predict(X_test)\n",
        "evaluate_regression(y_pred)"
      ]
    },
    {
      "attachments": {},
      "cell_type": "markdown",
      "metadata": {
        "id": "PH_MuAgvtr4x"
      },
      "source": [
        "### CatBoost"
      ]
    },
    {
      "cell_type": "code",
      "execution_count": null,
      "metadata": {
        "id": "iXSEuu_ccKny"
      },
      "outputs": [],
      "source": [
        "cat = CatBoostRegressor(eval_metric='RMSE')\n",
        "pipeline = Pipeline(steps=[\n",
        "    ('preprocessor', preprocessor),\n",
        "    ('classifier', cat)\n",
        "])\n",
        "pipeline.fit(X_train, y_train)\n",
        "y_pred = pipeline.predict(X_test)\n",
        "evaluate_regression(y_pred)"
      ]
    },
    {
      "cell_type": "code",
      "execution_count": null,
      "metadata": {
        "id": "WjqUmXiMc4w8"
      },
      "outputs": [],
      "source": [
        "pipeline.named_steps['classifier'].get_all_params()"
      ]
    },
    {
      "cell_type": "code",
      "execution_count": null,
      "metadata": {
        "id": "R36RHMA3hjcm"
      },
      "outputs": [],
      "source": [
        "cat = CatBoostRegressor(eval_metric='RMSE')\n",
        "pipeline = Pipeline(steps=[\n",
        "    ('preprocessor', preprocessor),\n",
        "    ('regressor', cat)\n",
        "])\n",
        "params = {\n",
        "    'regressor__iterations': [200, 500, 1000, 1500],\n",
        "    'regressor__depth': [3, 5, 6, 7, 10],\n",
        "    'regressor__learning_rate': [0.01, 0.05, 0.075, 0.1, 0.2]\n",
        "}\n",
        "cat_model3 = RandomizedSearchCV(pipeline, params, n_iter=5, cv=kf, n_jobs=-1,\n",
        "                                scoring='neg_mean_squared_error', random_state=1, \n",
        "                                verbose=2)\n",
        "cat_model3.fit(X_train, y_train)\n",
        "pickle.dump(cat_model2, open('3catb.sav', 'wb'))"
      ]
    },
    {
      "cell_type": "code",
      "execution_count": null,
      "metadata": {
        "colab": {
          "base_uri": "https://localhost:8080/"
        },
        "id": "k2TDXibDb_2G",
        "outputId": "402630d9-41ac-4cb2-ad0f-b217ff7f178c"
      },
      "outputs": [
        {
          "name": "stdout",
          "output_type": "stream",
          "text": [
            "MSE: 14.84, RMSE: 3.85, MAE: 3.0, R2: 0.35\n"
          ]
        }
      ],
      "source": [
        "y_pred = cat_model3.best_estimator_.predict(X_test)\n",
        "evaluate_regression(y_pred)"
      ]
    },
    {
      "attachments": {},
      "cell_type": "markdown",
      "metadata": {
        "id": "d_uPzIPlg8WP"
      },
      "source": [
        "### AutoML"
      ]
    },
    {
      "cell_type": "code",
      "execution_count": null,
      "metadata": {
        "id": "ey86s1BIi4Gz"
      },
      "outputs": [],
      "source": [
        "automl_model3 = autosklearn.regression.AutoSklearnRegressor(\n",
        "    seed=1, n_jobs=-1, metric=auto_mean_absolute_error\n",
        ")\n",
        "automl_model3.fit(X_train, y_train)\n",
        "pickle.dump(automl_model3, open('3automl.sav', 'wb'))"
      ]
    },
    {
      "cell_type": "code",
      "execution_count": null,
      "metadata": {
        "colab": {
          "base_uri": "https://localhost:8080/"
        },
        "id": "O-aLCZx_X0Lb",
        "outputId": "bea502dd-6015-4f55-e7f9-a2f43c3c30f7"
      },
      "outputs": [
        {
          "name": "stdout",
          "output_type": "stream",
          "text": [
            "MSE: 16.5, RMSE: 4.06, MAE: 3.23, R2: 0.28\n"
          ]
        }
      ],
      "source": [
        "y_pred = automl_model3.predict(X_test)\n",
        "evaluate_regression(y_pred)"
      ]
    },
    {
      "cell_type": "code",
      "execution_count": null,
      "metadata": {
        "colab": {
          "base_uri": "https://localhost:8080/",
          "height": 269
        },
        "id": "6JBEQp1Hjud6",
        "outputId": "4fb66a31-2671-4b77-a9ae-ea167b631ecf"
      },
      "outputs": [
        {
          "data": {
            "text/html": [
              "\n",
              "  <div id=\"df-495d919c-fdae-4491-9763-3348a96ec309\">\n",
              "    <div class=\"colab-df-container\">\n",
              "      <div>\n",
              "<style scoped>\n",
              "    .dataframe tbody tr th:only-of-type {\n",
              "        vertical-align: middle;\n",
              "    }\n",
              "\n",
              "    .dataframe tbody tr th {\n",
              "        vertical-align: top;\n",
              "    }\n",
              "\n",
              "    .dataframe thead th {\n",
              "        text-align: right;\n",
              "    }\n",
              "</style>\n",
              "<table border=\"1\" class=\"dataframe\">\n",
              "  <thead>\n",
              "    <tr style=\"text-align: right;\">\n",
              "      <th></th>\n",
              "      <th>rank</th>\n",
              "      <th>ensemble_weight</th>\n",
              "      <th>type</th>\n",
              "      <th>cost</th>\n",
              "      <th>duration</th>\n",
              "    </tr>\n",
              "    <tr>\n",
              "      <th>model_id</th>\n",
              "      <th></th>\n",
              "      <th></th>\n",
              "      <th></th>\n",
              "      <th></th>\n",
              "      <th></th>\n",
              "    </tr>\n",
              "  </thead>\n",
              "  <tbody>\n",
              "    <tr>\n",
              "      <th>163</th>\n",
              "      <td>1</td>\n",
              "      <td>0.22</td>\n",
              "      <td>ard_regression</td>\n",
              "      <td>3.825424</td>\n",
              "      <td>5.114383</td>\n",
              "    </tr>\n",
              "    <tr>\n",
              "      <th>135</th>\n",
              "      <td>2</td>\n",
              "      <td>0.28</td>\n",
              "      <td>liblinear_svr</td>\n",
              "      <td>3.825578</td>\n",
              "      <td>5.658752</td>\n",
              "    </tr>\n",
              "    <tr>\n",
              "      <th>176</th>\n",
              "      <td>3</td>\n",
              "      <td>0.02</td>\n",
              "      <td>extra_trees</td>\n",
              "      <td>3.969741</td>\n",
              "      <td>52.879029</td>\n",
              "    </tr>\n",
              "    <tr>\n",
              "      <th>136</th>\n",
              "      <td>4</td>\n",
              "      <td>0.06</td>\n",
              "      <td>liblinear_svr</td>\n",
              "      <td>4.015276</td>\n",
              "      <td>5.708076</td>\n",
              "    </tr>\n",
              "    <tr>\n",
              "      <th>44</th>\n",
              "      <td>5</td>\n",
              "      <td>0.32</td>\n",
              "      <td>decision_tree</td>\n",
              "      <td>4.096103</td>\n",
              "      <td>5.268003</td>\n",
              "    </tr>\n",
              "    <tr>\n",
              "      <th>161</th>\n",
              "      <td>6</td>\n",
              "      <td>0.10</td>\n",
              "      <td>mlp</td>\n",
              "      <td>6.260783</td>\n",
              "      <td>20.930605</td>\n",
              "    </tr>\n",
              "  </tbody>\n",
              "</table>\n",
              "</div>\n",
              "      <button class=\"colab-df-convert\" onclick=\"convertToInteractive('df-495d919c-fdae-4491-9763-3348a96ec309')\"\n",
              "              title=\"Convert this dataframe to an interactive table.\"\n",
              "              style=\"display:none;\">\n",
              "        \n",
              "  <svg xmlns=\"http://www.w3.org/2000/svg\" height=\"24px\"viewBox=\"0 0 24 24\"\n",
              "       width=\"24px\">\n",
              "    <path d=\"M0 0h24v24H0V0z\" fill=\"none\"/>\n",
              "    <path d=\"M18.56 5.44l.94 2.06.94-2.06 2.06-.94-2.06-.94-.94-2.06-.94 2.06-2.06.94zm-11 1L8.5 8.5l.94-2.06 2.06-.94-2.06-.94L8.5 2.5l-.94 2.06-2.06.94zm10 10l.94 2.06.94-2.06 2.06-.94-2.06-.94-.94-2.06-.94 2.06-2.06.94z\"/><path d=\"M17.41 7.96l-1.37-1.37c-.4-.4-.92-.59-1.43-.59-.52 0-1.04.2-1.43.59L10.3 9.45l-7.72 7.72c-.78.78-.78 2.05 0 2.83L4 21.41c.39.39.9.59 1.41.59.51 0 1.02-.2 1.41-.59l7.78-7.78 2.81-2.81c.8-.78.8-2.07 0-2.86zM5.41 20L4 18.59l7.72-7.72 1.47 1.35L5.41 20z\"/>\n",
              "  </svg>\n",
              "      </button>\n",
              "      \n",
              "  <style>\n",
              "    .colab-df-container {\n",
              "      display:flex;\n",
              "      flex-wrap:wrap;\n",
              "      gap: 12px;\n",
              "    }\n",
              "\n",
              "    .colab-df-convert {\n",
              "      background-color: #E8F0FE;\n",
              "      border: none;\n",
              "      border-radius: 50%;\n",
              "      cursor: pointer;\n",
              "      display: none;\n",
              "      fill: #1967D2;\n",
              "      height: 32px;\n",
              "      padding: 0 0 0 0;\n",
              "      width: 32px;\n",
              "    }\n",
              "\n",
              "    .colab-df-convert:hover {\n",
              "      background-color: #E2EBFA;\n",
              "      box-shadow: 0px 1px 2px rgba(60, 64, 67, 0.3), 0px 1px 3px 1px rgba(60, 64, 67, 0.15);\n",
              "      fill: #174EA6;\n",
              "    }\n",
              "\n",
              "    [theme=dark] .colab-df-convert {\n",
              "      background-color: #3B4455;\n",
              "      fill: #D2E3FC;\n",
              "    }\n",
              "\n",
              "    [theme=dark] .colab-df-convert:hover {\n",
              "      background-color: #434B5C;\n",
              "      box-shadow: 0px 1px 3px 1px rgba(0, 0, 0, 0.15);\n",
              "      filter: drop-shadow(0px 1px 2px rgba(0, 0, 0, 0.3));\n",
              "      fill: #FFFFFF;\n",
              "    }\n",
              "  </style>\n",
              "\n",
              "      <script>\n",
              "        const buttonEl =\n",
              "          document.querySelector('#df-495d919c-fdae-4491-9763-3348a96ec309 button.colab-df-convert');\n",
              "        buttonEl.style.display =\n",
              "          google.colab.kernel.accessAllowed ? 'block' : 'none';\n",
              "\n",
              "        async function convertToInteractive(key) {\n",
              "          const element = document.querySelector('#df-495d919c-fdae-4491-9763-3348a96ec309');\n",
              "          const dataTable =\n",
              "            await google.colab.kernel.invokeFunction('convertToInteractive',\n",
              "                                                     [key], {});\n",
              "          if (!dataTable) return;\n",
              "\n",
              "          const docLinkHtml = 'Like what you see? Visit the ' +\n",
              "            '<a target=\"_blank\" href=https://colab.research.google.com/notebooks/data_table.ipynb>data table notebook</a>'\n",
              "            + ' to learn more about interactive tables.';\n",
              "          element.innerHTML = '';\n",
              "          dataTable['output_type'] = 'display_data';\n",
              "          await google.colab.output.renderOutput(dataTable, element);\n",
              "          const docLink = document.createElement('div');\n",
              "          docLink.innerHTML = docLinkHtml;\n",
              "          element.appendChild(docLink);\n",
              "        }\n",
              "      </script>\n",
              "    </div>\n",
              "  </div>\n",
              "  "
            ],
            "text/plain": [
              "          rank  ensemble_weight            type      cost   duration\n",
              "model_id                                                            \n",
              "163          1             0.22  ard_regression  3.825424   5.114383\n",
              "135          2             0.28   liblinear_svr  3.825578   5.658752\n",
              "176          3             0.02     extra_trees  3.969741  52.879029\n",
              "136          4             0.06   liblinear_svr  4.015276   5.708076\n",
              "44           5             0.32   decision_tree  4.096103   5.268003\n",
              "161          6             0.10             mlp  6.260783  20.930605"
            ]
          },
          "execution_count": 124,
          "metadata": {},
          "output_type": "execute_result"
        }
      ],
      "source": [
        "automl_model3.leaderboard()"
      ]
    },
    {
      "cell_type": "code",
      "execution_count": null,
      "metadata": {
        "colab": {
          "base_uri": "https://localhost:8080/"
        },
        "id": "s_tnNbf_jud9",
        "outputId": "9f04db87-d837-484f-807c-a9a06d6a414e"
      },
      "outputs": [
        {
          "name": "stdout",
          "output_type": "stream",
          "text": [
            "auto-sklearn results:\n",
            "  Dataset name: 58cfa7f0-f0aa-11ed-9ac2-0242ac1c000c\n",
            "  Metric: f1_weighted\n",
            "  Best validation score: 0.379347\n",
            "  Number of target algorithm runs: 179\n",
            "  Number of successful target algorithm runs: 70\n",
            "  Number of crashed target algorithm runs: 76\n",
            "  Number of target algorithms that exceeded the time limit: 1\n",
            "  Number of target algorithms that exceeded the memory limit: 32\n",
            "\n"
          ]
        }
      ],
      "source": [
        "print(automl_model2.sprint_statistics())"
      ]
    },
    {
      "cell_type": "code",
      "execution_count": null,
      "metadata": {
        "id": "QJPvBb_uKPS5"
      },
      "outputs": [],
      "source": [
        "data = [\n",
        "    ['XGBoost', 14.87, 3.86, 2.97, 0.35],\n",
        "    ['Catboost', 14.84, 3.85, 3.0, 0.35],\n",
        "    ['AutoML', 16.5, 4.06, 3.23, 0.28]]\n",
        "columns = ['Model', 'MSE', 'RMSE', 'MAE', 'R2']\n",
        "t = pd.DataFrame(data, columns=columns)"
      ]
    },
    {
      "cell_type": "code",
      "execution_count": null,
      "metadata": {
        "colab": {
          "base_uri": "https://localhost:8080/",
          "height": 143
        },
        "id": "PzKGbLAkKPTD",
        "outputId": "1185ac5f-498f-4e73-ec18-a740a0041826"
      },
      "outputs": [
        {
          "data": {
            "text/html": [
              "<style type=\"text/css\">\n",
              "#T_b9853_row0_col1 {\n",
              "  background-color: #509ac6;\n",
              "  color: #f1f1f1;\n",
              "}\n",
              "#T_b9853_row1_col1 {\n",
              "  background-color: #529bc7;\n",
              "  color: #f1f1f1;\n",
              "}\n",
              "#T_b9853_row2_col1 {\n",
              "  background-color: #045382;\n",
              "  color: #f1f1f1;\n",
              "}\n",
              "</style>\n",
              "<table id=\"T_b9853\" class=\"dataframe\">\n",
              "  <thead>\n",
              "    <tr>\n",
              "      <th class=\"blank level0\" >&nbsp;</th>\n",
              "      <th id=\"T_b9853_level0_col0\" class=\"col_heading level0 col0\" >Model</th>\n",
              "      <th id=\"T_b9853_level0_col1\" class=\"col_heading level0 col1\" >MSE</th>\n",
              "      <th id=\"T_b9853_level0_col2\" class=\"col_heading level0 col2\" >RMSE</th>\n",
              "      <th id=\"T_b9853_level0_col3\" class=\"col_heading level0 col3\" >MAE</th>\n",
              "      <th id=\"T_b9853_level0_col4\" class=\"col_heading level0 col4\" >R2</th>\n",
              "    </tr>\n",
              "  </thead>\n",
              "  <tbody>\n",
              "    <tr>\n",
              "      <th id=\"T_b9853_level0_row0\" class=\"row_heading level0 row0\" >0</th>\n",
              "      <td id=\"T_b9853_row0_col0\" class=\"data row0 col0\" >XGBoost</td>\n",
              "      <td id=\"T_b9853_row0_col1\" class=\"data row0 col1\" >14.87</td>\n",
              "      <td id=\"T_b9853_row0_col2\" class=\"data row0 col2\" >3.86</td>\n",
              "      <td id=\"T_b9853_row0_col3\" class=\"data row0 col3\" >2.97</td>\n",
              "      <td id=\"T_b9853_row0_col4\" class=\"data row0 col4\" >0.35</td>\n",
              "    </tr>\n",
              "    <tr>\n",
              "      <th id=\"T_b9853_level0_row1\" class=\"row_heading level0 row1\" >1</th>\n",
              "      <td id=\"T_b9853_row1_col0\" class=\"data row1 col0\" >Catboost</td>\n",
              "      <td id=\"T_b9853_row1_col1\" class=\"data row1 col1\" >14.84</td>\n",
              "      <td id=\"T_b9853_row1_col2\" class=\"data row1 col2\" >3.85</td>\n",
              "      <td id=\"T_b9853_row1_col3\" class=\"data row1 col3\" >3.00</td>\n",
              "      <td id=\"T_b9853_row1_col4\" class=\"data row1 col4\" >0.35</td>\n",
              "    </tr>\n",
              "    <tr>\n",
              "      <th id=\"T_b9853_level0_row2\" class=\"row_heading level0 row2\" >2</th>\n",
              "      <td id=\"T_b9853_row2_col0\" class=\"data row2 col0\" >AutoML</td>\n",
              "      <td id=\"T_b9853_row2_col1\" class=\"data row2 col1\" >16.50</td>\n",
              "      <td id=\"T_b9853_row2_col2\" class=\"data row2 col2\" >4.06</td>\n",
              "      <td id=\"T_b9853_row2_col3\" class=\"data row2 col3\" >3.23</td>\n",
              "      <td id=\"T_b9853_row2_col4\" class=\"data row2 col4\" >0.28</td>\n",
              "    </tr>\n",
              "  </tbody>\n",
              "</table>\n"
            ],
            "text/plain": [
              "<pandas.io.formats.style.Styler at 0x7f0720572800>"
            ]
          },
          "execution_count": 156,
          "metadata": {},
          "output_type": "execute_result"
        }
      ],
      "source": [
        "t.style.format(precision=2).background_gradient(cmap='PuBu', vmin=12, vmax=17, subset=['MSE'])"
      ]
    }
  ],
  "metadata": {
    "accelerator": "GPU",
    "colab": {
      "gpuType": "T4",
      "machine_shape": "hm",
      "provenance": []
    },
    "gpuClass": "standard",
    "kernelspec": {
      "display_name": "Python 3",
      "name": "python3"
    },
    "language_info": {
      "name": "python",
      "version": "3.9.13"
    }
  },
  "nbformat": 4,
  "nbformat_minor": 0
}
